{
  "cells": [
    {
      "cell_type": "markdown",
      "metadata": {
        "id": "QYRH4VUw8L9m"
      },
      "source": [
        "from: https://github.com/SadmanSakib93/Stratified-k-fold-cross-validation-Image-classification-keras/blob/master/stratified_K_fold_CV.ipynb"
      ]
    },
    {
      "cell_type": "code",
      "execution_count": 1,
      "metadata": {
        "id": "gdTY892I7gOi"
      },
      "outputs": [
        {
          "name": "stderr",
          "output_type": "stream",
          "text": [
            "2023-05-10 08:44:10.296781: I tensorflow/core/platform/cpu_feature_guard.cc:182] This TensorFlow binary is optimized to use available CPU instructions in performance-critical operations.\n",
            "To enable the following instructions: AVX2 AVX512F FMA, in other operations, rebuild TensorFlow with the appropriate compiler flags.\n",
            "2023-05-10 08:44:14.067675: W tensorflow/compiler/tf2tensorrt/utils/py_utils.cc:38] TF-TRT Warning: Could not find TensorRT\n"
          ]
        }
      ],
      "source": [
        "import numpy as np\n",
        "from sklearn.metrics import accuracy_score, f1_score, precision_score, confusion_matrix\n",
        "from sklearn.model_selection import StratifiedKFold\n",
        "from PIL import Image\n",
        "import random\n",
        "import tensorflow as tf\n",
        "from tensorflow.keras.models import Sequential\n",
        "from keras.preprocessing.image import ImageDataGenerator\n",
        "from tensorflow.keras.layers import Dense, Dropout, Flatten, Conv2D, MaxPooling2D\n",
        "\n",
        "from tensorflow.compat.v1 import ConfigProto\n",
        "from tensorflow.compat.v1 import InteractiveSession\n",
        "import warnings\n",
        "import os\n",
        "import shutil\n",
        "from PIL import ImageFile\n",
        "warnings.simplefilter('error', Image.DecompressionBombWarning)\n",
        "ImageFile.LOAD_TRUNCATED_IMAGES = True\n",
        "Image.MAX_IMAGE_PIXELS = 1000000000\n",
        "config = ConfigProto()\n",
        "config.gpu_options.allow_growth = True\n",
        "session = InteractiveSession(config=config)"
      ]
    },
    {
      "cell_type": "code",
      "execution_count": 2,
      "metadata": {
        "colab": {
          "base_uri": "https://localhost:8080/"
        },
        "id": "FuDNA6xw8ngT",
        "outputId": "3949ad37-1348-45ab-d16d-eba8a5e4532b"
      },
      "outputs": [],
      "source": [
        "\"\"\"from google.colab import drive\n",
        "drive.mount('/content/drive')\n",
        "!ls\n",
        "import sys\n",
        "# This is the path to where in google drive the code is stored!\n",
        "root_path = '/content/drive/My Drive/'\n",
        "sys.path.append(root_path)\n",
        "\"\"\"\n",
        "\n",
        "root_path = '/workspaces/proposal-ta/images/'"
      ]
    },
    {
      "cell_type": "code",
      "execution_count": 3,
      "metadata": {
        "id": "E8wVsnsN8_ZB"
      },
      "outputs": [],
      "source": [
        "### UBAH NAMA FILE MODEL SESUAI PENGUJIAN DI SINI\n",
        "dataset_folder_name = os.path.join(root_path, '')\n",
        "source_files = []\n",
        "class_labels = ['a', 'ba', 'ca', 'da', 'ga', \n",
        "                'ja', 'ka','la','ma', 'na', \n",
        "                'nga', 'nya','pa', 'ra', 'sa', \n",
        "                'ta', 'wa', 'ya']\n",
        "X = []\n",
        "Y = []\n",
        "\n",
        "img_rows, img_cols = 120, 120 # input image dimensions\n",
        "train_path = os.path.join(dataset_folder_name, 'train')\n",
        "validation_path = os.path.join(dataset_folder_name, 'validation')\n",
        "test_path = os.path.join(dataset_folder_name, 'test')"
      ]
    },
    {
      "cell_type": "code",
      "execution_count": 4,
      "metadata": {},
      "outputs": [],
      "source": [
        "# augmentasi data\n",
        "# bisa jadi sebelum atau setelah split"
      ]
    },
    {
      "cell_type": "code",
      "execution_count": 5,
      "metadata": {
        "id": "hQTAVyDu92QO"
      },
      "outputs": [],
      "source": [
        "def transfer_between_folders(source, dest, split_rate):\n",
        "    \"\"\" Based on the split ratio this function moves some portion of the source folder to destination folder!\n",
        "\n",
        "        Args:\n",
        "            source: str\n",
        "                Source folder's path\n",
        "            dest: str\n",
        "                Destination folder's path\n",
        "            split_rate: float\n",
        "                Ratio of files to move from source to dest location\n",
        "\n",
        "    \"\"\"\n",
        "    global source_files\n",
        "    source_files = os.listdir(source)\n",
        "    if(len(source_files) != 0):\n",
        "        transfer_file_numbers = int(len(source_files)*split_rate)\n",
        "        transfer_index = random.sample(\n",
        "            range(0, len(source_files)), transfer_file_numbers)\n",
        "        for each_index in transfer_index:\n",
        "            shutil.move(os.path.join(source, str(source_files[each_index])), os.path.join(\n",
        "                dest, str(source_files[each_index])))\n",
        "\n",
        "    else:\n",
        "        print(\"No file moved. Source empty!\")\n",
        "\n",
        "\n",
        "def transfer_all_class_between_folders(source, dest, split_rate):\n",
        "    \"\"\" Transfer the files from source to dest for all the classes. This function calls the 'transfer_between_folders' to actually perform the transfer.\n",
        "\n",
        "        Args:\n",
        "            source: str\n",
        "                Source folder's path\n",
        "            dest: str\n",
        "                Destination folder's path\n",
        "            split_rate: float\n",
        "                Ratio of files to move from source to dest location\n",
        "\n",
        "    \"\"\"\n",
        "    for label in class_labels:\n",
        "        transfer_between_folders(os.path.join(dataset_folder_name, source, label),\n",
        "                                 os.path.join(\n",
        "                                     dataset_folder_name, dest, label),\n",
        "                                 split_rate)\n",
        "\n",
        "\n",
        "def my_metrics(y_true, y_pred):\n",
        "    \"\"\" Calculate accuracy, precision, and f1 score of the model's prediction with respect to true labels.\n",
        "\n",
        "        Args:\n",
        "            y_true: list/array\n",
        "                All true class labels\n",
        "            y_pred: list/array\n",
        "                All predicted class labels\n",
        "\n",
        "        Returns:\n",
        "            accuracy: float\n",
        "                Accuracy measure of the model\n",
        "            precision: float\n",
        "                Precision measure of the model\n",
        "            f1_Score: float\n",
        "                F1-score measure of the model\n",
        "\n",
        "    \"\"\"\n",
        "    accuracy = accuracy_score(y_true, y_pred)\n",
        "    precision = precision_score(y_true, y_pred, average='weighted')\n",
        "    f1_Score = f1_score(y_true, y_pred, average='weighted')\n",
        "    print(\"Accuracy  : {}\".format(accuracy))\n",
        "    print(\"Precision : {}\".format(precision))\n",
        "    print(\"f1Score : {}\".format(f1_Score))\n",
        "    cm = confusion_matrix(y_true, y_pred)\n",
        "    print(cm)\n",
        "    return accuracy, precision, f1_Score"
      ]
    },
    {
      "cell_type": "code",
      "execution_count": 6,
      "metadata": {
        "id": "fTSdYcqD-IW5"
      },
      "outputs": [],
      "source": [
        "transfer_all_class_between_folders('test','train', 1.0)\n",
        "#transfer_all_class_between_folders('validation','train', 1.0)"
      ]
    },
    {
      "cell_type": "code",
      "execution_count": 7,
      "metadata": {
        "id": "9TdfECoaBoja"
      },
      "outputs": [],
      "source": [
        "transfer_all_class_between_folders('train', 'test', 0.20)"
      ]
    },
    {
      "cell_type": "code",
      "execution_count": 8,
      "metadata": {
        "id": "HAeKZkmDBuCx"
      },
      "outputs": [],
      "source": [
        "def prepare_name_with_labels(folder_name, dataset_type='train'):\n",
        "    \"\"\" Prepare the file names (X) and the class labels (Y) from folder location of images.\n",
        "\n",
        "        Args:\n",
        "            folder_name: str\n",
        "                Source folder's path\n",
        "\n",
        "    \"\"\"\n",
        "    source_files = os.listdir(os.path.join(dataset_folder_name, dataset_type, folder_name))\n",
        "    y_label = 0\n",
        "    for i in range(len(class_labels)):\n",
        "        if(folder_name == class_labels[i]):\n",
        "            y_label = i\n",
        "    for val in source_files:\n",
        "        X.append(val)\n",
        "        Y.append(y_label)"
      ]
    },
    {
      "cell_type": "code",
      "execution_count": 9,
      "metadata": {
        "id": "ZXi4N1qSBy8A"
      },
      "outputs": [],
      "source": [
        "# Organize file names and class labels in X and Y variables\n",
        "for i in range(len(class_labels)):\n",
        "    prepare_name_with_labels(class_labels[i])"
      ]
    },
    {
      "cell_type": "code",
      "execution_count": 10,
      "metadata": {
        "id": "h3aTsDa5B155"
      },
      "outputs": [],
      "source": [
        "X = np.asarray(X)\n",
        "Y = np.asarray(Y)"
      ]
    },
    {
      "cell_type": "code",
      "execution_count": 11,
      "metadata": {
        "id": "8DKyU0MOB3Tj"
      },
      "outputs": [],
      "source": [
        "# arsitektur\n",
        "batch_size = 32\n",
        "epoch = 15\n",
        "num_of_channels = 3\n",
        "number_of_class_labels = len(class_labels)"
      ]
    },
    {
      "cell_type": "code",
      "execution_count": 12,
      "metadata": {
        "id": "1ljNTaGaCIzc"
      },
      "outputs": [
        {
          "data": {
            "text/plain": [
              "'\\n    Note that, this model structure is a very basic one. \\n    To achieve better performance, you should change the model structure and hyperparameters according to your needs and data. \\n    So, optimize the structure of the model!\\n'"
            ]
          },
          "execution_count": 12,
          "metadata": {},
          "output_type": "execute_result"
        }
      ],
      "source": [
        "\"\"\"\n",
        "    Note that, this model structure is a very basic one. \n",
        "    To achieve better performance, you should change the model structure and hyperparameters according to your needs and data. \n",
        "    So, optimize the structure of the model!\n",
        "\"\"\"\n",
        "\n",
        "#def get_model():\n",
        "#    activation_function = 'relu'\n",
        "#\n",
        "#    model = Sequential()\n",
        "#    model.add(Conv2D(64, (3,3), padding='same',\n",
        "#                     activation=activation_function, input_shape=(img_rows, img_cols, num_of_channels)))\n",
        "#    model.add(Conv2D(64, (3,3), activation=activation_function))\n",
        "#    model.add(MaxPooling2D(pool_size=(2, 2)))\n",
        "#    model.add(Dropout(0.25))\n",
        "#\n",
        "#    model.add(Conv2D(32, (3,3), padding='same',\n",
        "#                     activation=activation_function))\n",
        "#    model.add(Conv2D(32, (3,3), activation=activation_function))\n",
        "#    model.add(MaxPooling2D(pool_size=(2, 2)))\n",
        "#    model.add(Dropout(0.25))\n",
        "#\n",
        "#    model.add(Conv2D(16, (3,3), padding='same',\n",
        "#                     activation=activation_function))\n",
        "#    model.add(Conv2D(16, (3,3), activation=activation_function))\n",
        "#    model.add(MaxPooling2D(pool_size=(2, 2)))\n",
        "#    model.add(Dropout(0.25))\n",
        "#\n",
        "#    #model.add(Conv2D(64, (3,3), padding='same',\n",
        "#    #                 activation=activation_function))\n",
        "#    #model.add(MaxPooling2D(pool_size=(2, 2)))\n",
        "#    #model.add(Dropout(0.25))\n",
        "#    \n",
        "#    #model.add(Conv2D(64, (3,3), padding='same',\n",
        "#    #                 activation=activation_function))\n",
        "#    #model.add(MaxPooling2D(pool_size=(2, 2)))\n",
        "#    #model.add(Dropout(0.25))\n",
        "#\n",
        "#    #model.add(Conv2D(128, (3,3), padding='same',\n",
        "#    #                 activation=activation_function))\n",
        "#    #model.add(MaxPooling2D(pool_size=(2, 2)))\n",
        "#    #model.add(Dropout(0.25))\n",
        "#\n",
        "#    model.add(Flatten())\n",
        "#    model.add(Dense(128, activation=activation_function))\n",
        "#    #model.add(Dropout(0.1))\n",
        "#    #model.add(Dense(32, activation=activation_function))\n",
        "#    #model.add(Dropout(0.1))\n",
        "#    #model.add(Dense(16, activation=activation_function))\n",
        "#    #model.add(Dropout(0.1))\n",
        "#    model.add(Dense(number_of_class_labels, activation='softmax'))\n",
        "#\n",
        "#    optimizer=tf.keras.optimizers.Adam(learning_rate=0.001)\n",
        "#\n",
        "#    model.compile(optimizer=optimizer, loss='categorical_crossentropy',\n",
        "#                  metrics=['accuracy'])\n",
        "#\n",
        "#    return model\n",
        "#\n",
        "#\n",
        "#model = get_model()\n",
        "#model.summary()\n",
        "##"
      ]
    },
    {
      "cell_type": "code",
      "execution_count": 13,
      "metadata": {},
      "outputs": [
        {
          "name": "stdout",
          "output_type": "stream",
          "text": [
            "Model: \"sequential\"\n",
            "_________________________________________________________________\n",
            " Layer (type)                Output Shape              Param #   \n",
            "=================================================================\n",
            " conv2d (Conv2D)             (None, 118, 118, 32)      896       \n",
            "                                                                 \n",
            " max_pooling2d (MaxPooling2D  (None, 59, 59, 32)       0         \n",
            " )                                                               \n",
            "                                                                 \n",
            " dropout (Dropout)           (None, 59, 59, 32)        0         \n",
            "                                                                 \n",
            " conv2d_1 (Conv2D)           (None, 57, 57, 32)        9248      \n",
            "                                                                 \n",
            " max_pooling2d_1 (MaxPooling  (None, 28, 28, 32)       0         \n",
            " 2D)                                                             \n",
            "                                                                 \n",
            " dropout_1 (Dropout)         (None, 28, 28, 32)        0         \n",
            "                                                                 \n",
            " conv2d_2 (Conv2D)           (None, 26, 26, 64)        18496     \n",
            "                                                                 \n",
            " max_pooling2d_2 (MaxPooling  (None, 13, 13, 64)       0         \n",
            " 2D)                                                             \n",
            "                                                                 \n",
            " dropout_2 (Dropout)         (None, 13, 13, 64)        0         \n",
            "                                                                 \n",
            " conv2d_3 (Conv2D)           (None, 11, 11, 64)        36928     \n",
            "                                                                 \n",
            " max_pooling2d_3 (MaxPooling  (None, 5, 5, 64)         0         \n",
            " 2D)                                                             \n",
            "                                                                 \n",
            " dropout_3 (Dropout)         (None, 5, 5, 64)          0         \n",
            "                                                                 \n",
            " conv2d_4 (Conv2D)           (None, 3, 3, 128)         73856     \n",
            "                                                                 \n",
            " max_pooling2d_4 (MaxPooling  (None, 1, 1, 128)        0         \n",
            " 2D)                                                             \n",
            "                                                                 \n",
            " dropout_4 (Dropout)         (None, 1, 1, 128)         0         \n",
            "                                                                 \n",
            " flatten (Flatten)           (None, 128)               0         \n",
            "                                                                 \n",
            " dense (Dense)               (None, 128)               16512     \n",
            "                                                                 \n",
            " dense_1 (Dense)             (None, 18)                2322      \n",
            "                                                                 \n",
            "=================================================================\n",
            "Total params: 158,258\n",
            "Trainable params: 158,258\n",
            "Non-trainable params: 0\n",
            "_________________________________________________________________\n"
          ]
        }
      ],
      "source": [
        "model = tf.keras.Sequential([\n",
        "    tf.keras.layers.Conv2D(32, (3, 3), activation='relu', input_shape=(120, 120, 3)),\n",
        "    tf.keras.layers.MaxPooling2D(2, 2),\n",
        "    tf.keras.layers.Dropout(0.25),\n",
        "    tf.keras.layers.Conv2D(32, (3, 3), activation='relu'),\n",
        "    tf.keras.layers.MaxPooling2D(2, 2),\n",
        "    tf.keras.layers.Dropout(0.25),\n",
        "    tf.keras.layers.Conv2D(64, (3, 3), activation='relu'),\n",
        "    tf.keras.layers.MaxPooling2D(2, 2),\n",
        "    tf.keras.layers.Dropout(0.25),\n",
        "    tf.keras.layers.Conv2D(64, (3, 3), activation='relu'),\n",
        "    tf.keras.layers.MaxPooling2D(2, 2),\n",
        "    tf.keras.layers.Dropout(0.25),\n",
        "    tf.keras.layers.Conv2D(128, (3, 3), activation='relu'),\n",
        "    tf.keras.layers.MaxPooling2D(2, 2),\n",
        "    tf.keras.layers.Dropout(0.25),\n",
        "    #tf.keras.layers.Conv2D(32, (3, 3), activation='relu'),\n",
        "    #tf.keras.layers.MaxPooling2D(2, 2),\n",
        "    tf.keras.layers.Flatten(),\n",
        "    #tf.keras.layers.Dropout(0.2),\n",
        "    tf.keras.layers.Dense(128, activation='relu'),\n",
        "    tf.keras.layers.Dense(18, activation='softmax')\n",
        "])\n",
        "\n",
        "optimizer=tf.keras.optimizers.Adam(learning_rate=0.001)\n",
        "\n",
        "model.compile(\n",
        "    #optimizer='adam', \n",
        "    optimizer=optimizer,\n",
        "    loss='categorical_crossentropy',\n",
        "    metrics=['accuracy'],\n",
        ")\n",
        "\n",
        "model.summary()"
      ]
    },
    {
      "cell_type": "code",
      "execution_count": 14,
      "metadata": {
        "colab": {
          "base_uri": "https://localhost:8080/"
        },
        "id": "Q1i-6r91CUX5",
        "outputId": "285f1950-226b-4d2d-f6dd-467389dd1662"
      },
      "outputs": [
        {
          "name": "stdout",
          "output_type": "stream",
          "text": [
            "Results for fold 1\n",
            "Found 1220 images belonging to 18 classes.\n",
            "Found 93 images belonging to 18 classes.\n",
            "Epoch 1/15\n"
          ]
        },
        {
          "name": "stderr",
          "output_type": "stream",
          "text": [
            "2023-05-10 08:44:19.663051: I tensorflow/core/common_runtime/executor.cc:1197] [/device:CPU:0] (DEBUG INFO) Executor start aborting (this does not indicate an error and you can ignore this message): INVALID_ARGUMENT: You must feed a value for placeholder tensor 'Placeholder/_0' with dtype int32\n",
            "\t [[{{node Placeholder/_0}}]]\n"
          ]
        },
        {
          "name": "stdout",
          "output_type": "stream",
          "text": [
            "39/39 [==============================] - 15s 314ms/step - loss: 2.9012 - accuracy: 0.0418\n",
            "Epoch 2/15\n",
            "39/39 [==============================] - 14s 345ms/step - loss: 2.8914 - accuracy: 0.0557\n",
            "Epoch 3/15\n",
            "39/39 [==============================] - 12s 296ms/step - loss: 2.8918 - accuracy: 0.0500\n",
            "Epoch 4/15\n",
            "39/39 [==============================] - 12s 294ms/step - loss: 2.8909 - accuracy: 0.0484\n",
            "Epoch 5/15\n",
            "39/39 [==============================] - 12s 309ms/step - loss: 2.8910 - accuracy: 0.0459\n",
            "Epoch 6/15\n",
            "39/39 [==============================] - 12s 305ms/step - loss: 2.8904 - accuracy: 0.0525\n",
            "Epoch 7/15\n",
            "39/39 [==============================] - 12s 298ms/step - loss: 2.8909 - accuracy: 0.0516\n",
            "Epoch 8/15\n",
            "39/39 [==============================] - 12s 295ms/step - loss: 2.8904 - accuracy: 0.0516\n",
            "Epoch 9/15\n",
            "39/39 [==============================] - 13s 336ms/step - loss: 2.8882 - accuracy: 0.0631\n",
            "Epoch 10/15\n",
            "39/39 [==============================] - 12s 296ms/step - loss: 2.8683 - accuracy: 0.0664\n",
            "Epoch 11/15\n",
            "39/39 [==============================] - 12s 301ms/step - loss: 2.8047 - accuracy: 0.0902\n",
            "Epoch 12/15\n",
            "39/39 [==============================] - 12s 299ms/step - loss: 2.7465 - accuracy: 0.1148\n",
            "Epoch 13/15\n",
            "39/39 [==============================] - 12s 297ms/step - loss: 2.7100 - accuracy: 0.1246\n",
            "Epoch 14/15\n",
            "39/39 [==============================] - 12s 300ms/step - loss: 2.6754 - accuracy: 0.1311\n",
            "Epoch 15/15\n",
            "39/39 [==============================] - 12s 297ms/step - loss: 2.6693 - accuracy: 0.1336\n"
          ]
        },
        {
          "name": "stderr",
          "output_type": "stream",
          "text": [
            "2023-05-10 08:47:22.651451: I tensorflow/core/common_runtime/executor.cc:1197] [/device:CPU:0] (DEBUG INFO) Executor start aborting (this does not indicate an error and you can ignore this message): INVALID_ARGUMENT: You must feed a value for placeholder tensor 'Placeholder/_0' with dtype int32\n",
            "\t [[{{node Placeholder/_0}}]]\n"
          ]
        },
        {
          "name": "stdout",
          "output_type": "stream",
          "text": [
            "3/3 [==============================] - 0s 71ms/step\n",
            "***Performance on Validation data***\n",
            "Accuracy  : 0.1827956989247312\n",
            "Precision : 0.08153039668934947\n",
            "f1Score : 0.10301869576063126\n",
            "[[0 0 0 0 0 0 0 0 0 0 0 0 1 5 0 0 0 0]\n",
            " [0 0 0 0 3 0 1 1 0 0 0 0 0 0 0 0 0 0]\n",
            " [0 0 0 1 0 0 1 0 0 0 0 1 0 2 0 0 0 0]\n",
            " [0 0 0 0 0 0 3 0 0 1 0 0 0 1 0 0 0 0]\n",
            " [0 0 0 0 5 0 0 0 0 0 0 0 0 0 0 0 0 0]\n",
            " [0 0 0 0 2 0 0 0 0 0 0 0 3 0 0 0 0 0]\n",
            " [0 0 0 1 1 0 1 2 0 0 0 0 0 1 0 0 0 0]\n",
            " [0 0 0 0 3 0 0 1 0 0 0 0 0 1 0 0 0 0]\n",
            " [0 0 1 0 1 0 0 0 0 0 0 0 1 2 0 0 0 0]\n",
            " [0 0 0 0 0 0 1 0 0 2 0 0 0 2 0 0 0 0]\n",
            " [0 0 0 0 4 0 0 0 1 0 0 0 0 0 0 0 0 0]\n",
            " [0 0 0 0 2 0 0 3 0 0 0 0 0 0 0 0 0 0]\n",
            " [0 0 0 0 0 0 0 0 0 0 0 0 6 0 0 0 0 0]\n",
            " [0 0 0 0 1 0 0 1 0 0 0 0 1 2 0 0 0 0]\n",
            " [0 0 0 0 0 0 0 0 0 0 0 0 2 3 0 0 0 0]\n",
            " [0 0 0 0 0 0 3 0 0 1 0 0 0 1 0 0 0 0]\n",
            " [0 0 0 1 1 0 0 0 0 0 0 0 1 2 0 0 0 0]\n",
            " [0 0 0 0 0 0 0 0 0 0 0 0 0 5 0 0 0 0]]\n",
            "Results for fold 2\n",
            "Found 1220 images belonging to 18 classes.\n",
            "Found 93 images belonging to 18 classes.\n"
          ]
        },
        {
          "name": "stderr",
          "output_type": "stream",
          "text": [
            "/home/vscode/.local/lib/python3.11/site-packages/sklearn/metrics/_classification.py:1344: UndefinedMetricWarning: Precision is ill-defined and being set to 0.0 in labels with no predicted samples. Use `zero_division` parameter to control this behavior.\n",
            "  _warn_prf(average, modifier, msg_start, len(result))\n",
            "2023-05-10 08:47:23.267469: I tensorflow/core/common_runtime/executor.cc:1197] [/device:CPU:0] (DEBUG INFO) Executor start aborting (this does not indicate an error and you can ignore this message): INVALID_ARGUMENT: You must feed a value for placeholder tensor 'Placeholder/_0' with dtype int32\n",
            "\t [[{{node Placeholder/_0}}]]\n"
          ]
        },
        {
          "name": "stdout",
          "output_type": "stream",
          "text": [
            "Epoch 1/15\n",
            "39/39 [==============================] - 12s 304ms/step - loss: 2.6203 - accuracy: 0.1631\n",
            "Epoch 2/15\n",
            "39/39 [==============================] - 12s 294ms/step - loss: 2.5929 - accuracy: 0.1746\n",
            "Epoch 3/15\n",
            "39/39 [==============================] - 11s 289ms/step - loss: 2.5768 - accuracy: 0.1697\n",
            "Epoch 4/15\n",
            "39/39 [==============================] - 11s 289ms/step - loss: 2.5794 - accuracy: 0.1861\n",
            "Epoch 5/15\n",
            "39/39 [==============================] - 12s 293ms/step - loss: 2.5030 - accuracy: 0.1975\n",
            "Epoch 6/15\n",
            "39/39 [==============================] - 11s 290ms/step - loss: 2.4943 - accuracy: 0.1885\n",
            "Epoch 7/15\n",
            "39/39 [==============================] - 14s 349ms/step - loss: 2.4274 - accuracy: 0.2213\n",
            "Epoch 8/15\n",
            "39/39 [==============================] - 12s 306ms/step - loss: 2.4256 - accuracy: 0.2131\n",
            "Epoch 9/15\n",
            "39/39 [==============================] - 12s 302ms/step - loss: 2.3629 - accuracy: 0.2582\n",
            "Epoch 10/15\n",
            "39/39 [==============================] - 11s 289ms/step - loss: 2.3569 - accuracy: 0.2328\n",
            "Epoch 11/15\n",
            "39/39 [==============================] - 11s 283ms/step - loss: 2.3151 - accuracy: 0.2582\n",
            "Epoch 12/15\n",
            "39/39 [==============================] - 11s 296ms/step - loss: 2.2877 - accuracy: 0.2656\n",
            "Epoch 13/15\n",
            "39/39 [==============================] - 11s 290ms/step - loss: 2.2765 - accuracy: 0.2639\n",
            "Epoch 14/15\n",
            "39/39 [==============================] - 11s 289ms/step - loss: 2.2714 - accuracy: 0.2656\n",
            "Epoch 15/15\n",
            "39/39 [==============================] - 11s 289ms/step - loss: 2.2097 - accuracy: 0.2828\n",
            "2/3 [===================>..........] - ETA: 0s"
          ]
        },
        {
          "name": "stderr",
          "output_type": "stream",
          "text": [
            "2023-05-10 08:50:27.499134: I tensorflow/core/common_runtime/executor.cc:1197] [/device:CPU:0] (DEBUG INFO) Executor start aborting (this does not indicate an error and you can ignore this message): INVALID_ARGUMENT: You must feed a value for placeholder tensor 'Placeholder/_0' with dtype int32\n",
            "\t [[{{node Placeholder/_0}}]]\n"
          ]
        },
        {
          "name": "stdout",
          "output_type": "stream",
          "text": [
            "3/3 [==============================] - 0s 60ms/step\n",
            "***Performance on Validation data***\n",
            "Accuracy  : 0.3763440860215054\n",
            "Precision : 0.3913466461853559\n",
            "f1Score : 0.3530264239941659\n",
            "[[2 0 0 0 0 0 0 0 0 2 0 2 0 0 0 0 0 0]\n",
            " [0 4 0 0 0 0 1 0 0 0 0 0 0 0 0 0 0 0]\n",
            " [0 0 1 0 0 0 2 0 0 1 0 0 0 0 1 0 0 0]\n",
            " [0 0 0 4 0 0 0 0 0 0 0 0 0 0 1 0 0 0]\n",
            " [0 0 0 0 3 0 0 0 2 0 0 0 0 0 0 0 0 0]\n",
            " [1 0 0 0 1 0 0 0 1 0 0 0 0 0 2 0 0 0]\n",
            " [0 0 0 1 0 0 2 0 0 2 0 0 0 0 0 0 0 0]\n",
            " [1 0 0 0 0 0 0 4 0 0 0 0 0 0 0 0 0 1]\n",
            " [0 0 3 0 0 1 0 0 0 0 0 0 0 0 1 0 0 0]\n",
            " [0 0 0 2 0 0 0 0 0 3 0 0 0 0 0 0 0 0]\n",
            " [0 3 0 0 0 0 0 1 0 0 0 0 0 1 0 0 0 0]\n",
            " [0 3 1 0 0 0 0 0 0 0 0 1 0 0 0 0 0 0]\n",
            " [0 0 0 0 0 1 0 0 0 0 0 0 3 1 0 0 0 0]\n",
            " [0 0 0 0 0 1 0 0 0 0 0 1 0 4 0 0 0 0]\n",
            " [0 0 0 1 0 0 0 0 0 2 0 0 0 0 2 0 0 0]\n",
            " [0 0 0 1 0 0 4 0 0 0 0 0 0 0 0 0 0 0]\n",
            " [0 0 1 0 1 0 0 0 2 0 0 0 0 0 0 0 1 0]\n",
            " [0 0 0 0 0 0 0 0 0 0 3 0 1 0 0 0 0 1]]\n",
            "Results for fold 3\n",
            "Found 1220 images belonging to 18 classes.\n",
            "Found 93 images belonging to 18 classes.\n",
            "Epoch 1/15\n"
          ]
        },
        {
          "name": "stderr",
          "output_type": "stream",
          "text": [
            "/home/vscode/.local/lib/python3.11/site-packages/sklearn/metrics/_classification.py:1344: UndefinedMetricWarning: Precision is ill-defined and being set to 0.0 in labels with no predicted samples. Use `zero_division` parameter to control this behavior.\n",
            "  _warn_prf(average, modifier, msg_start, len(result))\n",
            "2023-05-10 08:50:27.904386: I tensorflow/core/common_runtime/executor.cc:1197] [/device:CPU:0] (DEBUG INFO) Executor start aborting (this does not indicate an error and you can ignore this message): INVALID_ARGUMENT: You must feed a value for placeholder tensor 'Placeholder/_0' with dtype int32\n",
            "\t [[{{node Placeholder/_0}}]]\n"
          ]
        },
        {
          "name": "stdout",
          "output_type": "stream",
          "text": [
            "39/39 [==============================] - 13s 320ms/step - loss: 2.2190 - accuracy: 0.2877\n",
            "Epoch 2/15\n",
            "39/39 [==============================] - 11s 292ms/step - loss: 2.1864 - accuracy: 0.2861\n",
            "Epoch 3/15\n",
            "39/39 [==============================] - 11s 288ms/step - loss: 2.1875 - accuracy: 0.2902\n",
            "Epoch 4/15\n",
            "39/39 [==============================] - 13s 320ms/step - loss: 2.1251 - accuracy: 0.3074\n",
            "Epoch 5/15\n",
            "39/39 [==============================] - 11s 288ms/step - loss: 2.1269 - accuracy: 0.3197\n",
            "Epoch 6/15\n",
            "39/39 [==============================] - 11s 290ms/step - loss: 2.1443 - accuracy: 0.3090\n",
            "Epoch 7/15\n",
            "39/39 [==============================] - 13s 331ms/step - loss: 2.1077 - accuracy: 0.3172\n",
            "Epoch 8/15\n",
            "39/39 [==============================] - 11s 291ms/step - loss: 2.1306 - accuracy: 0.3238\n",
            "Epoch 9/15\n",
            "39/39 [==============================] - 11s 288ms/step - loss: 2.0665 - accuracy: 0.3270\n",
            "Epoch 10/15\n",
            "39/39 [==============================] - 12s 293ms/step - loss: 2.0833 - accuracy: 0.3107\n",
            "Epoch 11/15\n",
            "39/39 [==============================] - 11s 288ms/step - loss: 2.0665 - accuracy: 0.3459\n",
            "Epoch 12/15\n",
            "39/39 [==============================] - 11s 289ms/step - loss: 2.0653 - accuracy: 0.3156\n",
            "Epoch 13/15\n",
            "39/39 [==============================] - 11s 290ms/step - loss: 2.0149 - accuracy: 0.3484\n",
            "Epoch 14/15\n",
            "39/39 [==============================] - 11s 290ms/step - loss: 2.0516 - accuracy: 0.3443\n",
            "Epoch 15/15\n",
            "39/39 [==============================] - 11s 291ms/step - loss: 2.0012 - accuracy: 0.3680\n",
            "2/3 [===================>..........] - ETA: 0s"
          ]
        },
        {
          "name": "stderr",
          "output_type": "stream",
          "text": [
            "2023-05-10 08:53:23.129415: I tensorflow/core/common_runtime/executor.cc:1197] [/device:CPU:0] (DEBUG INFO) Executor start aborting (this does not indicate an error and you can ignore this message): INVALID_ARGUMENT: You must feed a value for placeholder tensor 'Placeholder/_0' with dtype int32\n",
            "\t [[{{node Placeholder/_0}}]]\n"
          ]
        },
        {
          "name": "stdout",
          "output_type": "stream",
          "text": [
            "3/3 [==============================] - 0s 57ms/step\n",
            "***Performance on Validation data***\n",
            "Accuracy  : 0.4946236559139785\n",
            "Precision : 0.44654377880184326\n",
            "f1Score : 0.4515959548217613\n",
            "[[2 0 0 0 0 0 0 0 0 0 0 2 0 0 0 0 1 0]\n",
            " [0 4 0 0 0 0 0 0 0 0 0 0 0 0 0 2 0 0]\n",
            " [0 0 2 2 0 0 0 0 0 0 0 0 0 0 1 0 0 0]\n",
            " [0 0 0 5 0 0 0 0 0 0 0 0 0 0 0 0 0 0]\n",
            " [0 0 1 0 3 0 0 0 1 0 0 0 0 0 0 0 0 0]\n",
            " [0 0 0 0 0 1 0 0 2 0 0 0 0 1 0 0 1 0]\n",
            " [1 0 0 0 0 0 0 0 0 4 0 0 0 0 0 0 0 0]\n",
            " [4 2 0 0 0 0 0 0 0 0 0 0 0 0 0 0 0 0]\n",
            " [0 0 0 0 1 1 0 1 2 0 0 0 0 0 0 0 0 0]\n",
            " [0 0 0 1 0 0 0 0 0 4 0 0 0 0 0 0 0 0]\n",
            " [0 2 0 0 1 0 0 1 0 0 1 0 0 0 0 0 0 0]\n",
            " [0 1 0 0 0 0 0 0 0 0 1 3 0 0 0 0 0 0]\n",
            " [0 0 0 0 0 1 0 0 0 0 0 0 3 1 0 0 0 0]\n",
            " [0 0 0 0 0 0 0 0 0 0 0 0 0 6 0 0 0 0]\n",
            " [0 0 0 0 1 0 0 0 0 0 0 0 0 1 3 0 0 0]\n",
            " [0 0 0 0 0 0 0 0 0 0 0 0 0 0 0 4 1 0]\n",
            " [0 0 0 0 0 1 0 0 1 0 0 0 1 1 0 0 0 1]\n",
            " [0 0 0 2 0 0 0 0 0 0 0 0 0 0 0 0 0 3]]\n",
            "Results for fold 4\n",
            "Found 1220 images belonging to 18 classes.\n",
            "Found 93 images belonging to 18 classes.\n",
            "Epoch 1/15\n"
          ]
        },
        {
          "name": "stderr",
          "output_type": "stream",
          "text": [
            "/home/vscode/.local/lib/python3.11/site-packages/sklearn/metrics/_classification.py:1344: UndefinedMetricWarning: Precision is ill-defined and being set to 0.0 in labels with no predicted samples. Use `zero_division` parameter to control this behavior.\n",
            "  _warn_prf(average, modifier, msg_start, len(result))\n",
            "2023-05-10 08:53:23.502906: I tensorflow/core/common_runtime/executor.cc:1197] [/device:CPU:0] (DEBUG INFO) Executor start aborting (this does not indicate an error and you can ignore this message): INVALID_ARGUMENT: You must feed a value for placeholder tensor 'Placeholder/_0' with dtype int32\n",
            "\t [[{{node Placeholder/_0}}]]\n"
          ]
        },
        {
          "name": "stdout",
          "output_type": "stream",
          "text": [
            "39/39 [==============================] - 13s 319ms/step - loss: 1.9884 - accuracy: 0.3705\n",
            "Epoch 2/15\n",
            "39/39 [==============================] - 11s 285ms/step - loss: 1.9856 - accuracy: 0.3525\n",
            "Epoch 3/15\n",
            "39/39 [==============================] - 11s 288ms/step - loss: 2.0126 - accuracy: 0.3541\n",
            "Epoch 4/15\n",
            "39/39 [==============================] - 11s 289ms/step - loss: 1.9488 - accuracy: 0.3672\n",
            "Epoch 5/15\n",
            "39/39 [==============================] - 11s 289ms/step - loss: 1.9259 - accuracy: 0.3934\n",
            "Epoch 6/15\n",
            "39/39 [==============================] - 11s 286ms/step - loss: 1.9462 - accuracy: 0.3566\n",
            "Epoch 7/15\n",
            "39/39 [==============================] - 11s 289ms/step - loss: 1.9217 - accuracy: 0.3656\n",
            "Epoch 8/15\n",
            "39/39 [==============================] - 13s 336ms/step - loss: 1.8788 - accuracy: 0.3844\n",
            "Epoch 9/15\n",
            "39/39 [==============================] - 11s 288ms/step - loss: 1.8896 - accuracy: 0.3787\n",
            "Epoch 10/15\n",
            "39/39 [==============================] - 11s 289ms/step - loss: 1.8570 - accuracy: 0.4016\n",
            "Epoch 11/15\n",
            "39/39 [==============================] - 11s 287ms/step - loss: 1.8650 - accuracy: 0.3844\n",
            "Epoch 12/15\n",
            "39/39 [==============================] - 11s 285ms/step - loss: 1.8380 - accuracy: 0.3984\n",
            "Epoch 13/15\n",
            "39/39 [==============================] - 12s 292ms/step - loss: 1.8086 - accuracy: 0.4221\n",
            "Epoch 14/15\n",
            "39/39 [==============================] - 11s 289ms/step - loss: 1.8106 - accuracy: 0.4008\n",
            "Epoch 15/15\n",
            "39/39 [==============================] - 12s 318ms/step - loss: 1.7587 - accuracy: 0.4492\n",
            "2/3 [===================>..........] - ETA: 0s"
          ]
        },
        {
          "name": "stderr",
          "output_type": "stream",
          "text": [
            "2023-05-10 08:56:18.060560: I tensorflow/core/common_runtime/executor.cc:1197] [/device:CPU:0] (DEBUG INFO) Executor start aborting (this does not indicate an error and you can ignore this message): INVALID_ARGUMENT: You must feed a value for placeholder tensor 'Placeholder/_0' with dtype int32\n",
            "\t [[{{node Placeholder/_0}}]]\n"
          ]
        },
        {
          "name": "stdout",
          "output_type": "stream",
          "text": [
            "3/3 [==============================] - 0s 73ms/step\n",
            "***Performance on Validation data***\n",
            "Accuracy  : 0.5161290322580645\n",
            "Precision : 0.5884924513956772\n",
            "f1Score : 0.5127093196353159\n",
            "[[3 0 0 0 1 0 0 0 0 0 0 0 0 0 0 1 0 0]\n",
            " [0 5 0 0 0 0 0 0 1 0 0 0 0 0 0 0 0 0]\n",
            " [0 0 3 0 0 0 0 0 1 1 0 0 0 0 0 0 0 0]\n",
            " [0 0 0 4 0 0 0 0 0 1 0 0 0 0 0 0 0 0]\n",
            " [0 0 0 0 5 0 0 0 0 0 0 0 0 0 0 0 0 0]\n",
            " [1 0 1 0 0 1 0 0 2 0 0 0 0 0 0 0 0 0]\n",
            " [0 0 0 0 0 0 3 0 0 1 0 0 0 0 0 1 0 0]\n",
            " [1 0 0 0 0 0 0 2 1 0 0 1 0 0 0 0 0 0]\n",
            " [1 0 0 0 0 3 0 0 2 0 0 0 0 0 0 0 0 0]\n",
            " [0 0 0 1 0 0 0 0 0 4 0 0 0 0 0 0 0 0]\n",
            " [0 1 0 0 0 0 0 0 0 0 1 1 0 0 0 0 0 2]\n",
            " [0 2 0 0 0 0 0 0 0 0 0 1 0 0 0 2 0 0]\n",
            " [0 0 0 0 0 0 0 0 0 0 0 0 3 1 0 0 1 0]\n",
            " [0 0 0 0 0 0 0 0 0 0 0 1 0 4 0 0 0 0]\n",
            " [0 0 1 0 0 0 0 0 1 0 0 0 1 0 3 0 0 0]\n",
            " [0 0 0 1 0 0 0 0 1 0 0 0 0 0 0 3 0 0]\n",
            " [0 0 0 0 0 0 0 0 1 0 0 2 1 0 0 0 1 0]\n",
            " [0 1 0 0 0 0 0 0 1 0 0 3 0 0 0 0 0 0]]\n",
            "Results for fold 5\n",
            "Found 1220 images belonging to 18 classes.\n",
            "Found 93 images belonging to 18 classes.\n",
            "Epoch 1/15\n"
          ]
        },
        {
          "name": "stderr",
          "output_type": "stream",
          "text": [
            "2023-05-10 08:56:18.537940: I tensorflow/core/common_runtime/executor.cc:1197] [/device:CPU:0] (DEBUG INFO) Executor start aborting (this does not indicate an error and you can ignore this message): INVALID_ARGUMENT: You must feed a value for placeholder tensor 'Placeholder/_0' with dtype int32\n",
            "\t [[{{node Placeholder/_0}}]]\n"
          ]
        },
        {
          "name": "stdout",
          "output_type": "stream",
          "text": [
            "39/39 [==============================] - 13s 319ms/step - loss: 1.7942 - accuracy: 0.4172\n",
            "Epoch 2/15\n",
            "39/39 [==============================] - 11s 288ms/step - loss: 1.7723 - accuracy: 0.4074\n",
            "Epoch 3/15\n",
            "39/39 [==============================] - 11s 287ms/step - loss: 1.7770 - accuracy: 0.4213\n",
            "Epoch 4/15\n",
            "39/39 [==============================] - 11s 290ms/step - loss: 1.7680 - accuracy: 0.3975\n",
            "Epoch 5/15\n",
            "39/39 [==============================] - 11s 288ms/step - loss: 1.7380 - accuracy: 0.4311\n",
            "Epoch 6/15\n",
            "39/39 [==============================] - 11s 292ms/step - loss: 1.7953 - accuracy: 0.4213\n",
            "Epoch 7/15\n",
            "39/39 [==============================] - 11s 289ms/step - loss: 1.6939 - accuracy: 0.4385\n",
            "Epoch 8/15\n",
            "39/39 [==============================] - 11s 284ms/step - loss: 1.7225 - accuracy: 0.4361\n",
            "Epoch 9/15\n",
            "39/39 [==============================] - 13s 331ms/step - loss: 1.7092 - accuracy: 0.4246\n",
            "Epoch 10/15\n",
            "39/39 [==============================] - 11s 291ms/step - loss: 1.7011 - accuracy: 0.4402\n",
            "Epoch 11/15\n",
            "39/39 [==============================] - 11s 290ms/step - loss: 1.6539 - accuracy: 0.4500\n",
            "Epoch 12/15\n",
            "39/39 [==============================] - 11s 289ms/step - loss: 1.6461 - accuracy: 0.4615\n",
            "Epoch 13/15\n",
            "39/39 [==============================] - 11s 288ms/step - loss: 1.7011 - accuracy: 0.4262\n",
            "Epoch 14/15\n",
            "39/39 [==============================] - 11s 287ms/step - loss: 1.6817 - accuracy: 0.4377\n",
            "Epoch 15/15\n",
            "39/39 [==============================] - 11s 290ms/step - loss: 1.6270 - accuracy: 0.4689\n",
            "3/3 [==============================] - 0s 49ms/step\n"
          ]
        },
        {
          "name": "stderr",
          "output_type": "stream",
          "text": [
            "2023-05-10 08:59:12.189219: I tensorflow/core/common_runtime/executor.cc:1197] [/device:CPU:0] (DEBUG INFO) Executor start aborting (this does not indicate an error and you can ignore this message): INVALID_ARGUMENT: You must feed a value for placeholder tensor 'Placeholder/_0' with dtype int32\n",
            "\t [[{{node Placeholder/_0}}]]\n"
          ]
        },
        {
          "name": "stdout",
          "output_type": "stream",
          "text": [
            "***Performance on Validation data***\n",
            "Accuracy  : 0.6344086021505376\n",
            "Precision : 0.6471326164874552\n",
            "f1Score : 0.6221466108562882\n",
            "[[2 0 0 0 0 0 0 2 0 0 0 0 0 0 0 0 1 0]\n",
            " [0 4 0 0 0 0 0 0 0 0 0 0 0 0 0 0 1 0]\n",
            " [0 0 4 0 0 1 1 0 0 0 0 0 0 0 0 0 0 0]\n",
            " [0 0 0 3 0 0 0 0 0 2 0 0 0 0 0 0 0 0]\n",
            " [0 0 0 0 5 0 0 0 0 0 0 0 0 0 0 0 0 0]\n",
            " [0 1 1 0 0 0 0 0 2 0 0 0 0 0 1 0 0 0]\n",
            " [0 0 0 0 0 0 3 0 0 2 0 0 0 0 0 0 0 0]\n",
            " [1 0 0 0 0 0 0 2 0 0 0 0 0 0 1 0 0 1]\n",
            " [1 0 0 0 0 0 0 0 4 0 0 0 0 0 0 0 0 0]\n",
            " [0 0 0 0 0 0 0 0 0 6 0 0 0 0 0 0 0 0]\n",
            " [0 1 0 0 0 0 0 0 0 0 3 0 1 0 0 0 0 0]\n",
            " [0 1 0 0 0 0 0 0 0 0 0 3 0 0 1 0 0 0]\n",
            " [0 0 0 0 0 0 0 0 0 0 0 0 4 1 0 0 0 0]\n",
            " [0 0 0 0 0 0 0 0 0 0 0 0 0 5 0 0 0 0]\n",
            " [0 0 1 0 1 0 1 0 0 0 0 0 0 0 2 0 0 0]\n",
            " [1 0 0 0 0 0 0 0 0 0 0 0 0 0 0 4 1 0]\n",
            " [0 0 1 0 1 1 0 0 0 0 0 0 0 0 0 0 2 0]\n",
            " [0 1 0 0 0 0 0 0 0 0 0 0 1 0 0 0 0 3]]\n",
            "Results for fold 6\n",
            "Found 1220 images belonging to 18 classes.\n",
            "Found 93 images belonging to 18 classes.\n",
            "Epoch 1/15\n"
          ]
        },
        {
          "name": "stderr",
          "output_type": "stream",
          "text": [
            "2023-05-10 08:59:12.550027: I tensorflow/core/common_runtime/executor.cc:1197] [/device:CPU:0] (DEBUG INFO) Executor start aborting (this does not indicate an error and you can ignore this message): INVALID_ARGUMENT: You must feed a value for placeholder tensor 'Placeholder/_0' with dtype int32\n",
            "\t [[{{node Placeholder/_0}}]]\n"
          ]
        },
        {
          "name": "stdout",
          "output_type": "stream",
          "text": [
            "39/39 [==============================] - 13s 320ms/step - loss: 1.6605 - accuracy: 0.4459\n",
            "Epoch 2/15\n",
            "39/39 [==============================] - 11s 290ms/step - loss: 1.6349 - accuracy: 0.4582\n",
            "Epoch 3/15\n",
            "39/39 [==============================] - 11s 289ms/step - loss: 1.5969 - accuracy: 0.4697\n",
            "Epoch 4/15\n",
            "39/39 [==============================] - 11s 291ms/step - loss: 1.7035 - accuracy: 0.4459\n",
            "Epoch 5/15\n",
            "39/39 [==============================] - 11s 290ms/step - loss: 1.6199 - accuracy: 0.4639\n",
            "Epoch 6/15\n",
            "39/39 [==============================] - 11s 289ms/step - loss: 1.5742 - accuracy: 0.4787\n",
            "Epoch 7/15\n",
            "39/39 [==============================] - 12s 292ms/step - loss: 1.6095 - accuracy: 0.4803\n",
            "Epoch 8/15\n",
            "39/39 [==============================] - 11s 286ms/step - loss: 1.5613 - accuracy: 0.4934\n",
            "Epoch 9/15\n",
            "39/39 [==============================] - 12s 298ms/step - loss: 1.6275 - accuracy: 0.4533\n",
            "Epoch 10/15\n",
            "39/39 [==============================] - 12s 313ms/step - loss: 1.5898 - accuracy: 0.4730\n",
            "Epoch 11/15\n",
            "39/39 [==============================] - 12s 322ms/step - loss: 1.5833 - accuracy: 0.4721\n",
            "Epoch 12/15\n",
            "39/39 [==============================] - 11s 283ms/step - loss: 1.5394 - accuracy: 0.4861\n",
            "Epoch 13/15\n",
            "39/39 [==============================] - 11s 285ms/step - loss: 1.5833 - accuracy: 0.4869\n",
            "Epoch 14/15\n",
            "39/39 [==============================] - 11s 284ms/step - loss: 1.5749 - accuracy: 0.4730\n",
            "Epoch 15/15\n",
            "39/39 [==============================] - 11s 286ms/step - loss: 1.5441 - accuracy: 0.4713\n",
            "2/3 [===================>..........] - ETA: 0s"
          ]
        },
        {
          "name": "stderr",
          "output_type": "stream",
          "text": [
            "2023-05-10 09:02:06.320963: I tensorflow/core/common_runtime/executor.cc:1197] [/device:CPU:0] (DEBUG INFO) Executor start aborting (this does not indicate an error and you can ignore this message): INVALID_ARGUMENT: You must feed a value for placeholder tensor 'Placeholder/_0' with dtype int32\n",
            "\t [[{{node Placeholder/_0}}]]\n"
          ]
        },
        {
          "name": "stdout",
          "output_type": "stream",
          "text": [
            "3/3 [==============================] - 0s 60ms/step\n",
            "***Performance on Validation data***\n",
            "Accuracy  : 0.5698924731182796\n",
            "Precision : 0.6138051017083276\n",
            "f1Score : 0.5568307140887786\n",
            "[[0 0 0 0 0 1 0 2 0 0 0 0 0 1 1 0 0 0]\n",
            " [0 3 0 0 0 0 0 0 0 0 0 2 0 0 0 0 0 0]\n",
            " [0 0 3 0 0 0 1 0 0 0 0 0 0 0 1 0 0 0]\n",
            " [0 0 0 5 0 0 1 0 0 0 0 0 0 0 0 0 0 0]\n",
            " [0 0 0 0 4 0 0 0 0 0 0 0 0 0 0 0 0 1]\n",
            " [0 0 0 0 1 1 0 0 3 0 0 0 0 0 0 0 0 0]\n",
            " [0 0 0 0 0 0 3 0 0 2 0 0 0 0 0 0 0 0]\n",
            " [1 0 0 0 0 0 0 4 0 0 0 0 0 0 0 0 0 0]\n",
            " [0 0 0 0 0 1 0 0 4 0 0 0 0 0 0 0 0 0]\n",
            " [0 0 0 0 0 0 2 0 0 4 0 0 0 0 0 0 0 0]\n",
            " [0 2 0 0 0 0 1 1 0 0 1 0 0 0 0 0 0 0]\n",
            " [0 3 0 0 0 0 0 0 0 0 0 1 0 0 0 1 0 0]\n",
            " [0 0 0 0 0 0 0 0 0 0 0 0 5 0 0 0 0 0]\n",
            " [0 0 0 0 0 0 0 0 0 0 0 0 0 5 0 0 0 0]\n",
            " [1 0 0 0 0 0 1 0 0 1 0 0 0 0 2 0 0 0]\n",
            " [0 0 0 0 0 0 2 0 1 0 0 0 0 0 0 2 1 0]\n",
            " [0 0 0 0 0 1 0 0 2 0 0 0 0 0 0 0 2 0]\n",
            " [0 0 0 0 0 0 0 1 0 0 0 0 0 0 0 0 0 4]]\n",
            "Results for fold 7\n",
            "Found 1220 images belonging to 18 classes.\n",
            "Found 93 images belonging to 18 classes.\n",
            "Epoch 1/15\n"
          ]
        },
        {
          "name": "stderr",
          "output_type": "stream",
          "text": [
            "2023-05-10 09:02:06.708681: I tensorflow/core/common_runtime/executor.cc:1197] [/device:CPU:0] (DEBUG INFO) Executor start aborting (this does not indicate an error and you can ignore this message): INVALID_ARGUMENT: You must feed a value for placeholder tensor 'Placeholder/_0' with dtype int32\n",
            "\t [[{{node Placeholder/_0}}]]\n"
          ]
        },
        {
          "name": "stdout",
          "output_type": "stream",
          "text": [
            "39/39 [==============================] - 12s 314ms/step - loss: 1.5673 - accuracy: 0.4844\n",
            "Epoch 2/15\n",
            "39/39 [==============================] - 11s 286ms/step - loss: 1.5699 - accuracy: 0.4820\n",
            "Epoch 3/15\n",
            "39/39 [==============================] - 11s 284ms/step - loss: 1.4343 - accuracy: 0.5123\n",
            "Epoch 4/15\n",
            "39/39 [==============================] - 11s 289ms/step - loss: 1.5055 - accuracy: 0.5131\n",
            "Epoch 5/15\n",
            "39/39 [==============================] - 11s 286ms/step - loss: 1.5598 - accuracy: 0.4828\n",
            "Epoch 6/15\n",
            "39/39 [==============================] - 11s 286ms/step - loss: 1.4825 - accuracy: 0.4803\n",
            "Epoch 7/15\n",
            "39/39 [==============================] - 11s 289ms/step - loss: 1.4902 - accuracy: 0.5066\n",
            "Epoch 8/15\n",
            "39/39 [==============================] - 11s 290ms/step - loss: 1.4695 - accuracy: 0.5098\n",
            "Epoch 9/15\n",
            "39/39 [==============================] - 11s 289ms/step - loss: 1.4386 - accuracy: 0.5352\n",
            "Epoch 10/15\n",
            "39/39 [==============================] - 12s 303ms/step - loss: 1.4568 - accuracy: 0.5189\n",
            "Epoch 11/15\n",
            "39/39 [==============================] - 12s 313ms/step - loss: 1.4795 - accuracy: 0.5156\n",
            "Epoch 12/15\n",
            "39/39 [==============================] - 11s 286ms/step - loss: 1.4228 - accuracy: 0.5090\n",
            "Epoch 13/15\n",
            "39/39 [==============================] - 11s 287ms/step - loss: 1.4513 - accuracy: 0.5180\n",
            "Epoch 14/15\n",
            "39/39 [==============================] - 11s 288ms/step - loss: 1.4786 - accuracy: 0.5107\n",
            "Epoch 15/15\n",
            "39/39 [==============================] - 11s 287ms/step - loss: 1.4310 - accuracy: 0.5148\n",
            "2/3 [===================>..........] - ETA: 0s"
          ]
        },
        {
          "name": "stderr",
          "output_type": "stream",
          "text": [
            "2023-05-10 09:04:59.213727: I tensorflow/core/common_runtime/executor.cc:1197] [/device:CPU:0] (DEBUG INFO) Executor start aborting (this does not indicate an error and you can ignore this message): INVALID_ARGUMENT: You must feed a value for placeholder tensor 'Placeholder/_0' with dtype int32\n",
            "\t [[{{node Placeholder/_0}}]]\n"
          ]
        },
        {
          "name": "stdout",
          "output_type": "stream",
          "text": [
            "3/3 [==============================] - 0s 82ms/step\n",
            "***Performance on Validation data***\n",
            "Accuracy  : 0.5913978494623656\n",
            "Precision : 0.5993506493506493\n",
            "f1Score : 0.5762355923646245\n",
            "[[3 0 0 0 0 0 0 2 0 0 0 0 0 0 0 0 0 0]\n",
            " [0 1 0 0 0 1 0 0 0 0 1 2 0 0 0 0 0 0]\n",
            " [0 0 2 1 1 0 1 0 0 0 0 0 0 0 0 0 0 0]\n",
            " [0 0 0 5 0 0 0 0 0 0 0 0 0 1 0 0 0 0]\n",
            " [0 0 0 0 4 0 0 0 0 0 0 0 0 0 0 0 1 0]\n",
            " [0 0 0 0 0 0 0 0 4 0 0 0 1 0 0 0 0 0]\n",
            " [0 0 0 0 0 0 4 0 0 1 0 0 0 0 0 0 0 0]\n",
            " [1 0 0 0 0 0 0 2 0 0 0 0 1 0 0 0 0 1]\n",
            " [0 0 0 0 0 1 0 0 4 0 0 0 0 0 0 0 0 0]\n",
            " [0 0 0 1 0 0 1 0 0 3 0 0 0 0 0 0 0 0]\n",
            " [0 2 0 0 1 0 0 0 1 0 2 0 0 0 0 0 0 0]\n",
            " [0 0 0 0 0 0 0 0 0 0 0 3 0 0 0 0 1 1]\n",
            " [0 0 0 0 0 0 0 0 0 0 0 0 5 0 0 0 0 0]\n",
            " [0 0 0 0 0 0 0 0 0 0 0 0 0 4 1 0 0 0]\n",
            " [0 0 1 0 0 0 0 0 0 0 0 0 0 0 4 0 0 0]\n",
            " [0 0 0 1 0 0 0 0 1 0 0 0 0 0 0 3 0 0]\n",
            " [0 0 0 0 2 0 0 0 1 0 0 0 0 0 0 0 3 0]\n",
            " [0 0 0 0 0 0 0 2 0 0 0 0 0 0 0 0 0 3]]\n",
            "Results for fold 8\n",
            "Found 1220 images belonging to 18 classes.\n",
            "Found 93 images belonging to 18 classes.\n",
            "Epoch 1/15\n"
          ]
        },
        {
          "name": "stderr",
          "output_type": "stream",
          "text": [
            "2023-05-10 09:04:59.692025: I tensorflow/core/common_runtime/executor.cc:1197] [/device:CPU:0] (DEBUG INFO) Executor start aborting (this does not indicate an error and you can ignore this message): INVALID_ARGUMENT: You must feed a value for placeholder tensor 'Placeholder/_0' with dtype int32\n",
            "\t [[{{node Placeholder/_0}}]]\n"
          ]
        },
        {
          "name": "stdout",
          "output_type": "stream",
          "text": [
            "39/39 [==============================] - 13s 318ms/step - loss: 1.4359 - accuracy: 0.5238\n",
            "Epoch 2/15\n",
            "39/39 [==============================] - 11s 285ms/step - loss: 1.4397 - accuracy: 0.5197\n",
            "Epoch 3/15\n",
            "39/39 [==============================] - 11s 289ms/step - loss: 1.4472 - accuracy: 0.5205\n",
            "Epoch 4/15\n",
            "39/39 [==============================] - 11s 291ms/step - loss: 1.3835 - accuracy: 0.5361\n",
            "Epoch 5/15\n",
            "39/39 [==============================] - 11s 294ms/step - loss: 1.4322 - accuracy: 0.5402\n",
            "Epoch 6/15\n",
            "39/39 [==============================] - 11s 291ms/step - loss: 1.4960 - accuracy: 0.5098\n",
            "Epoch 7/15\n",
            "39/39 [==============================] - 13s 320ms/step - loss: 1.4348 - accuracy: 0.5311\n",
            "Epoch 8/15\n",
            "39/39 [==============================] - 11s 289ms/step - loss: 1.5149 - accuracy: 0.5025\n",
            "Epoch 9/15\n",
            "39/39 [==============================] - 11s 285ms/step - loss: 1.4198 - accuracy: 0.5270\n",
            "Epoch 10/15\n",
            "39/39 [==============================] - 11s 287ms/step - loss: 1.3593 - accuracy: 0.5410\n",
            "Epoch 11/15\n",
            "39/39 [==============================] - 13s 329ms/step - loss: 1.3798 - accuracy: 0.5311\n",
            "Epoch 12/15\n",
            "39/39 [==============================] - 12s 312ms/step - loss: 1.4105 - accuracy: 0.5139\n",
            "Epoch 13/15\n",
            "39/39 [==============================] - 11s 289ms/step - loss: 1.3119 - accuracy: 0.5623\n",
            "Epoch 14/15\n",
            "39/39 [==============================] - 11s 287ms/step - loss: 1.3706 - accuracy: 0.5541\n",
            "Epoch 15/15\n",
            "39/39 [==============================] - 11s 286ms/step - loss: 1.3645 - accuracy: 0.5492\n",
            "2/3 [===================>..........] - ETA: 0s"
          ]
        },
        {
          "name": "stderr",
          "output_type": "stream",
          "text": [
            "2023-05-10 09:07:54.797940: I tensorflow/core/common_runtime/executor.cc:1197] [/device:CPU:0] (DEBUG INFO) Executor start aborting (this does not indicate an error and you can ignore this message): INVALID_ARGUMENT: You must feed a value for placeholder tensor 'Placeholder/_0' with dtype int32\n",
            "\t [[{{node Placeholder/_0}}]]\n"
          ]
        },
        {
          "name": "stdout",
          "output_type": "stream",
          "text": [
            "3/3 [==============================] - 0s 60ms/step\n",
            "***Performance on Validation data***\n",
            "Accuracy  : 0.6559139784946236\n",
            "Precision : 0.7349462365591397\n",
            "f1Score : 0.6447255253706866\n",
            "[[3 0 0 0 0 0 0 0 0 0 0 0 0 1 0 0 1 0]\n",
            " [0 3 0 0 1 0 0 0 1 0 0 0 0 0 0 0 0 0]\n",
            " [0 0 4 0 0 0 1 0 0 0 0 0 0 0 0 0 0 0]\n",
            " [0 0 0 5 0 0 0 0 0 0 0 0 0 0 0 0 0 0]\n",
            " [0 0 0 0 3 0 0 0 0 0 0 0 3 0 0 0 0 0]\n",
            " [0 0 0 0 0 1 0 0 4 0 0 0 0 0 0 0 0 0]\n",
            " [0 0 0 0 0 0 2 0 0 3 0 0 0 0 0 0 0 0]\n",
            " [1 0 0 0 0 0 0 4 0 0 0 0 0 0 0 0 0 0]\n",
            " [0 0 0 0 0 0 0 0 3 0 0 1 0 0 0 0 0 1]\n",
            " [0 0 0 0 0 0 0 0 0 5 0 0 0 0 0 0 0 0]\n",
            " [0 4 0 0 0 0 0 0 0 0 1 0 0 1 0 0 0 0]\n",
            " [0 2 0 0 0 0 0 0 0 0 0 3 0 0 0 0 0 0]\n",
            " [0 0 0 0 0 0 0 0 0 0 0 0 5 0 0 0 0 0]\n",
            " [0 0 0 0 0 0 0 0 0 0 0 0 1 3 1 0 0 0]\n",
            " [0 0 0 0 0 0 0 0 0 0 0 0 0 0 5 0 0 0]\n",
            " [0 0 0 0 0 0 0 0 0 0 0 0 0 0 0 4 1 0]\n",
            " [1 0 0 0 0 0 0 0 0 0 0 0 0 1 0 0 3 1]\n",
            " [0 0 0 0 0 0 0 0 0 0 0 0 1 0 0 0 0 4]]\n",
            "Results for fold 9\n",
            "Found 1220 images belonging to 18 classes.\n",
            "Found 93 images belonging to 18 classes.\n",
            "Epoch 1/15\n"
          ]
        },
        {
          "name": "stderr",
          "output_type": "stream",
          "text": [
            "2023-05-10 09:07:55.207133: I tensorflow/core/common_runtime/executor.cc:1197] [/device:CPU:0] (DEBUG INFO) Executor start aborting (this does not indicate an error and you can ignore this message): INVALID_ARGUMENT: You must feed a value for placeholder tensor 'Placeholder/_0' with dtype int32\n",
            "\t [[{{node Placeholder/_0}}]]\n"
          ]
        },
        {
          "name": "stdout",
          "output_type": "stream",
          "text": [
            "39/39 [==============================] - 12s 317ms/step - loss: 1.3794 - accuracy: 0.5500\n",
            "Epoch 2/15\n",
            "39/39 [==============================] - 11s 285ms/step - loss: 1.3664 - accuracy: 0.5377\n",
            "Epoch 3/15\n",
            "39/39 [==============================] - 11s 286ms/step - loss: 1.3199 - accuracy: 0.5393\n",
            "Epoch 4/15\n",
            "39/39 [==============================] - 11s 287ms/step - loss: 1.3393 - accuracy: 0.5508\n",
            "Epoch 5/15\n",
            "39/39 [==============================] - 11s 288ms/step - loss: 1.3555 - accuracy: 0.5516\n",
            "Epoch 6/15\n",
            "39/39 [==============================] - 11s 286ms/step - loss: 1.3762 - accuracy: 0.5377\n",
            "Epoch 7/15\n",
            "39/39 [==============================] - 11s 286ms/step - loss: 1.3662 - accuracy: 0.5492\n",
            "Epoch 8/15\n",
            "39/39 [==============================] - 11s 286ms/step - loss: 1.3612 - accuracy: 0.5443\n",
            "Epoch 9/15\n",
            "39/39 [==============================] - 11s 288ms/step - loss: 1.2806 - accuracy: 0.5795\n",
            "Epoch 10/15\n",
            "39/39 [==============================] - 11s 288ms/step - loss: 1.3330 - accuracy: 0.5410\n",
            "Epoch 11/15\n",
            "39/39 [==============================] - 11s 286ms/step - loss: 1.3375 - accuracy: 0.5467\n",
            "Epoch 12/15\n",
            "39/39 [==============================] - 13s 335ms/step - loss: 1.3666 - accuracy: 0.5434\n",
            "Epoch 13/15\n",
            "39/39 [==============================] - 12s 298ms/step - loss: 1.3468 - accuracy: 0.5270\n",
            "Epoch 14/15\n",
            "39/39 [==============================] - 11s 286ms/step - loss: 1.2896 - accuracy: 0.5574\n",
            "Epoch 15/15\n",
            "39/39 [==============================] - 11s 285ms/step - loss: 1.3024 - accuracy: 0.5631\n",
            "2/3 [===================>..........] - ETA: 0s"
          ]
        },
        {
          "name": "stderr",
          "output_type": "stream",
          "text": [
            "2023-05-10 09:10:48.341478: I tensorflow/core/common_runtime/executor.cc:1197] [/device:CPU:0] (DEBUG INFO) Executor start aborting (this does not indicate an error and you can ignore this message): INVALID_ARGUMENT: You must feed a value for placeholder tensor 'Placeholder/_0' with dtype int32\n",
            "\t [[{{node Placeholder/_0}}]]\n"
          ]
        },
        {
          "name": "stdout",
          "output_type": "stream",
          "text": [
            "3/3 [==============================] - 0s 54ms/step\n",
            "***Performance on Validation data***\n",
            "Accuracy  : 0.6236559139784946\n",
            "Precision : 0.6682963094253417\n",
            "f1Score : 0.6042761897600607\n",
            "[[1 0 0 0 0 0 0 1 0 1 0 0 2 0 0 0 0 0]\n",
            " [0 2 0 0 0 0 0 0 1 0 1 1 0 0 0 0 0 0]\n",
            " [0 0 4 0 0 0 0 0 0 0 0 0 0 0 1 0 0 0]\n",
            " [0 0 0 5 0 0 0 0 0 0 0 0 0 0 0 0 0 0]\n",
            " [0 0 0 0 5 0 0 0 0 0 0 0 0 0 0 0 0 0]\n",
            " [0 1 0 0 0 0 0 0 5 0 0 0 0 0 0 0 0 0]\n",
            " [0 0 0 0 0 0 5 0 0 0 0 0 0 0 0 0 0 0]\n",
            " [0 0 0 0 0 0 0 4 0 0 0 0 0 0 1 0 0 0]\n",
            " [0 0 0 0 0 1 0 0 4 0 0 0 0 0 0 0 0 0]\n",
            " [0 0 0 0 0 0 3 0 0 2 0 0 0 0 0 0 0 0]\n",
            " [0 2 0 0 0 0 0 0 0 0 3 0 0 0 0 0 0 0]\n",
            " [0 2 0 0 0 0 0 0 1 0 1 2 0 0 0 0 0 0]\n",
            " [0 0 0 0 0 1 0 0 0 0 0 0 4 0 0 0 0 0]\n",
            " [0 0 0 1 1 0 0 0 0 0 0 0 0 3 0 0 0 0]\n",
            " [0 0 0 0 0 0 0 0 0 0 0 0 0 0 5 0 0 0]\n",
            " [0 0 0 0 0 0 0 0 1 0 0 0 0 0 0 4 0 0]\n",
            " [0 0 1 0 0 0 0 0 1 0 0 0 2 0 0 0 1 0]\n",
            " [0 1 0 0 0 0 0 0 0 0 0 0 0 0 0 0 1 4]]\n",
            "Results for fold 10\n",
            "Found 1221 images belonging to 18 classes.\n",
            "Found 92 images belonging to 18 classes.\n",
            "Epoch 1/15\n"
          ]
        },
        {
          "name": "stderr",
          "output_type": "stream",
          "text": [
            "2023-05-10 09:10:48.755511: I tensorflow/core/common_runtime/executor.cc:1197] [/device:CPU:0] (DEBUG INFO) Executor start aborting (this does not indicate an error and you can ignore this message): INVALID_ARGUMENT: You must feed a value for placeholder tensor 'Placeholder/_0' with dtype int32\n",
            "\t [[{{node Placeholder/_0}}]]\n"
          ]
        },
        {
          "name": "stdout",
          "output_type": "stream",
          "text": [
            "39/39 [==============================] - 12s 316ms/step - loss: 1.3070 - accuracy: 0.5717\n",
            "Epoch 2/15\n",
            "39/39 [==============================] - 11s 286ms/step - loss: 1.3600 - accuracy: 0.5463\n",
            "Epoch 3/15\n",
            "39/39 [==============================] - 12s 318ms/step - loss: 1.3295 - accuracy: 0.5618\n",
            "Epoch 4/15\n",
            "39/39 [==============================] - 11s 288ms/step - loss: 1.3144 - accuracy: 0.5414\n",
            "Epoch 5/15\n",
            "39/39 [==============================] - 11s 287ms/step - loss: 1.2837 - accuracy: 0.5708\n",
            "Epoch 6/15\n",
            "39/39 [==============================] - 11s 286ms/step - loss: 1.2616 - accuracy: 0.5749\n",
            "Epoch 7/15\n",
            "39/39 [==============================] - 11s 287ms/step - loss: 1.3037 - accuracy: 0.5643\n",
            "Epoch 8/15\n",
            "39/39 [==============================] - 11s 285ms/step - loss: 1.2909 - accuracy: 0.5520\n",
            "Epoch 9/15\n",
            "39/39 [==============================] - 11s 290ms/step - loss: 1.3057 - accuracy: 0.5692\n",
            "Epoch 10/15\n",
            "39/39 [==============================] - 11s 285ms/step - loss: 1.2988 - accuracy: 0.5749\n",
            "Epoch 11/15\n",
            "39/39 [==============================] - 11s 286ms/step - loss: 1.3038 - accuracy: 0.5586\n",
            "Epoch 12/15\n",
            "39/39 [==============================] - 11s 290ms/step - loss: 1.3136 - accuracy: 0.5536\n",
            "Epoch 13/15\n",
            "39/39 [==============================] - 14s 350ms/step - loss: 1.3195 - accuracy: 0.5667\n",
            "Epoch 14/15\n",
            "39/39 [==============================] - 11s 290ms/step - loss: 1.2481 - accuracy: 0.5520\n",
            "Epoch 15/15\n",
            "39/39 [==============================] - 11s 291ms/step - loss: 1.3107 - accuracy: 0.5569\n",
            "2/3 [===================>..........] - ETA: 0s"
          ]
        },
        {
          "name": "stderr",
          "output_type": "stream",
          "text": [
            "2023-05-10 09:13:43.613769: I tensorflow/core/common_runtime/executor.cc:1197] [/device:CPU:0] (DEBUG INFO) Executor start aborting (this does not indicate an error and you can ignore this message): INVALID_ARGUMENT: You must feed a value for placeholder tensor 'Placeholder/_0' with dtype int32\n",
            "\t [[{{node Placeholder/_0}}]]\n"
          ]
        },
        {
          "name": "stdout",
          "output_type": "stream",
          "text": [
            "3/3 [==============================] - 0s 68ms/step\n",
            "***Performance on Validation data***\n",
            "Accuracy  : 0.6956521739130435\n",
            "Precision : 0.6955521833239224\n",
            "f1Score : 0.6605972529885573\n",
            "[[4 0 0 0 0 0 0 1 0 0 0 0 0 0 0 0 0 0]\n",
            " [0 4 0 0 0 0 0 1 0 0 0 0 0 0 0 0 0 0]\n",
            " [0 0 5 0 0 0 0 0 0 0 0 0 0 0 0 0 0 0]\n",
            " [0 0 0 5 0 0 0 0 0 0 0 0 0 0 0 0 0 0]\n",
            " [0 0 0 0 5 0 0 0 0 0 0 0 0 0 0 0 0 0]\n",
            " [0 0 1 0 1 0 0 0 3 0 0 0 0 0 0 0 0 0]\n",
            " [0 0 0 0 0 0 6 0 0 0 0 0 0 0 0 0 0 0]\n",
            " [1 0 0 0 0 0 0 4 0 0 0 0 0 0 0 0 0 0]\n",
            " [0 1 0 0 0 0 0 0 4 0 0 0 0 0 0 0 0 0]\n",
            " [0 0 0 0 0 0 2 0 0 3 0 0 0 0 0 0 0 0]\n",
            " [0 2 0 0 1 0 0 0 0 0 1 0 0 0 0 0 0 1]\n",
            " [0 4 0 0 0 0 0 0 1 0 0 0 0 0 0 0 0 0]\n",
            " [0 0 0 0 0 0 0 0 0 0 0 0 6 0 0 0 0 0]\n",
            " [0 0 0 0 0 0 0 0 0 0 0 0 0 4 0 0 1 0]\n",
            " [0 0 1 0 0 0 0 0 0 0 0 0 0 0 4 0 0 0]\n",
            " [0 0 0 0 0 0 0 0 1 0 0 0 0 0 0 3 1 0]\n",
            " [0 0 0 0 1 0 0 0 1 0 0 0 1 0 0 0 2 0]\n",
            " [0 0 0 0 0 0 0 0 0 0 0 1 0 0 0 0 0 4]]\n"
          ]
        },
        {
          "name": "stderr",
          "output_type": "stream",
          "text": [
            "/home/vscode/.local/lib/python3.11/site-packages/sklearn/metrics/_classification.py:1344: UndefinedMetricWarning: Precision is ill-defined and being set to 0.0 in labels with no predicted samples. Use `zero_division` parameter to control this behavior.\n",
            "  _warn_prf(average, modifier, msg_start, len(result))\n"
          ]
        }
      ],
      "source": [
        "# ===============Stratified K-Fold======================\n",
        "skf = StratifiedKFold(n_splits=10, shuffle=True)\n",
        "skf.get_n_splits(X, Y)\n",
        "fold_num = 0\n",
        "for train_index, val_index in skf.split(X, Y):\n",
        "    # First cut all images from validation to train (if any exists)\n",
        "    transfer_all_class_between_folders('validation', 'train'\n",
        "                                       , 1.0)\n",
        "    fold_num += 1\n",
        "    print(\"Results for fold\", fold_num)\n",
        "    X_train, X_val = X[train_index], X[val_index]\n",
        "    Y_train, Y_val = Y[train_index], Y[val_index]\n",
        "    # Move validation images of this fold from train folder to the validation folder\n",
        "    for each_index in range(len(X_val)):\n",
        "        class_label = ''\n",
        "        for i in range(len(class_labels)):\n",
        "            if(Y_val[each_index] == i):\n",
        "                class_label = class_labels[i]\n",
        "        # Then, copy the validation images to the validation folder\n",
        "        shutil.move(os.path.join(dataset_folder_name, 'train', class_label, X_val[each_index]),\n",
        "                    os.path.join(dataset_folder_name, 'validation', class_label, X_val[each_index]))\n",
        "\n",
        "    train_datagen = ImageDataGenerator(\n",
        "        rescale=1./255,\n",
        "        zoom_range=0.20,\n",
        "        fill_mode=\"nearest\",\n",
        "        rotation_range=90,\n",
        "        height_shift_range=0.1,\n",
        "        width_shift_range=0.1,\n",
        "        vertical_flip=True,\n",
        "        horizontal_flip=True)\n",
        "    validation_datagen = ImageDataGenerator(rescale=1./255)\n",
        "    test_datagen = ImageDataGenerator(rescale=1./255)\n",
        "\n",
        "    # Start ImageClassification Model\n",
        "    train_generator = train_datagen.flow_from_directory(\n",
        "        train_path,\n",
        "        target_size=(img_rows, img_cols),\n",
        "        batch_size=batch_size,\n",
        "        class_mode='categorical',\n",
        "        subset='training')\n",
        "\n",
        "    validation_generator = validation_datagen.flow_from_directory(\n",
        "        validation_path,\n",
        "        target_size=(img_rows, img_cols),\n",
        "        batch_size=batch_size,\n",
        "        class_mode=None,  # only data, no labels\n",
        "        shuffle=False)\n",
        "    \n",
        "    # fit model\n",
        "    history = model.fit(train_generator,\n",
        "                        epochs=epoch)\n",
        "\n",
        "    predictions = model.predict(validation_generator, verbose=1)\n",
        "    y_predictions = np.argmax(predictions, axis=1)\n",
        "    true_classes = validation_generator.classes\n",
        "    \n",
        "    # evaluate validation performance\n",
        "    print(\"***Performance on Validation data***\")\n",
        "    val_acc, val_prec, val_fScore = my_metrics(true_classes, y_predictions)"
      ]
    },
    {
      "cell_type": "code",
      "execution_count": 15,
      "metadata": {
        "colab": {
          "base_uri": "https://localhost:8080/"
        },
        "id": "_hG3Pzh9N61T",
        "outputId": "c92c5925-ba43-443f-8c89-9e63440e0a59"
      },
      "outputs": [
        {
          "name": "stdout",
          "output_type": "stream",
          "text": [
            "==============TEST RESULTS============\n",
            "Found 216 images belonging to 18 classes.\n",
            "2/7 [=======>......................] - ETA: 0s"
          ]
        },
        {
          "name": "stderr",
          "output_type": "stream",
          "text": [
            "2023-05-10 09:13:44.225038: I tensorflow/core/common_runtime/executor.cc:1197] [/device:CPU:0] (DEBUG INFO) Executor start aborting (this does not indicate an error and you can ignore this message): INVALID_ARGUMENT: You must feed a value for placeholder tensor 'Placeholder/_0' with dtype int32\n",
            "\t [[{{node Placeholder/_0}}]]\n"
          ]
        },
        {
          "name": "stdout",
          "output_type": "stream",
          "text": [
            "7/7 [==============================] - 0s 63ms/step\n",
            "Accuracy  : 0.6574074074074074\n",
            "Precision : 0.7436695979459138\n",
            "f1Score : 0.6325428980450111\n",
            "[[ 7  0  0  1  1  0  0  2  0  0  0  0  0  0  0  1  0  0]\n",
            " [ 0 10  0  0  0  0  0  0  1  0  0  0  1  0  0  0  0  0]\n",
            " [ 0  0  9  0  0  0  0  0  0  0  0  0  0  0  3  0  0  0]\n",
            " [ 0  0  1 10  0  0  0  0  1  0  0  0  0  0  0  0  0  0]\n",
            " [ 0  0  0  0 11  0  0  0  0  0  0  0  1  0  0  0  0  0]\n",
            " [ 0  1  0  0  2  1  0  0  6  0  0  0  0  0  1  0  0  1]\n",
            " [ 0  0  1  0  0  0 11  0  0  0  0  0  0  0  0  0  0  0]\n",
            " [ 1  0  0  0  0  0  0 10  0  0  0  0  0  0  0  0  1  0]\n",
            " [ 0  1  0  0  0  0  0  0 11  0  0  0  0  0  0  0  0  0]\n",
            " [ 0  0  0  0  0  0  7  0  0  5  0  0  0  0  0  0  0  0]\n",
            " [ 0  9  0  0  0  0  0  0  0  0  2  0  1  0  0  0  0  0]\n",
            " [ 0  7  0  0  0  0  1  0  1  0  0  3  0  0  0  0  0  0]\n",
            " [ 0  0  0  0  1  0  0  0  0  0  1  0  9  0  0  0  0  1]\n",
            " [ 1  0  0  0  0  0  0  1  0  0  0  0  0  9  1  0  0  0]\n",
            " [ 0  0  0  0  0  0  0  0  0  0  0  0  1  0 11  0  0  0]\n",
            " [ 0  0  2  1  0  0  0  0  2  0  0  0  0  0  0  5  2  0]\n",
            " [ 1  0  1  0  0  0  0  0  2  0  0  0  1  0  0  0  7  0]\n",
            " [ 1  0  0  0  0  0  0  0  0  0  0  0  0  0  0  0  0 11]]\n"
          ]
        }
      ],
      "source": [
        "print(\"==============TEST RESULTS============\")\n",
        "test_generator = test_datagen.flow_from_directory(\n",
        "    test_path,\n",
        "    target_size=(img_rows, img_cols),\n",
        "    batch_size=batch_size,\n",
        "    class_mode=None,\n",
        "    shuffle=False \n",
        ")\n",
        "predictions = model.predict(test_generator, verbose=1) \n",
        "y_predictions = np.argmax(predictions, axis=1)\n",
        "true_classes = test_generator.classes\n",
        "\n",
        "test_acc, test_prec, test_fScore = my_metrics(true_classes, y_predictions)"
      ]
    },
    {
      "cell_type": "code",
      "execution_count": 16,
      "metadata": {},
      "outputs": [
        {
          "name": "stdout",
          "output_type": "stream",
          "text": [
            "              precision    recall  f1-score   support\n",
            "\n",
            "           a       0.64      0.58      0.61        12\n",
            "          ba       0.36      0.83      0.50        12\n",
            "          ca       0.64      0.75      0.69        12\n",
            "          da       0.83      0.83      0.83        12\n",
            "          ga       0.73      0.92      0.81        12\n",
            "          ja       1.00      0.08      0.15        12\n",
            "          ka       0.58      0.92      0.71        12\n",
            "          la       0.77      0.83      0.80        12\n",
            "          ma       0.46      0.92      0.61        12\n",
            "          na       1.00      0.42      0.59        12\n",
            "         nga       0.67      0.17      0.27        12\n",
            "         nya       1.00      0.25      0.40        12\n",
            "          pa       0.64      0.75      0.69        12\n",
            "          ra       1.00      0.75      0.86        12\n",
            "          sa       0.69      0.92      0.79        12\n",
            "          ta       0.83      0.42      0.56        12\n",
            "          wa       0.70      0.58      0.64        12\n",
            "          ya       0.85      0.92      0.88        12\n",
            "\n",
            "    accuracy                           0.66       216\n",
            "   macro avg       0.74      0.66      0.63       216\n",
            "weighted avg       0.74      0.66      0.63       216\n",
            "\n"
          ]
        }
      ],
      "source": [
        "from sklearn.metrics import classification_report\n",
        "clr = classification_report(true_classes, y_predictions,\n",
        "                            labels=[0, 1, 2, 3, 4, 5, 6, 7, 8, 9, 10, 11, 12, 13, 14, 15, 16, 17], \n",
        "                            target_names=['a', 'ba','ca','da','ga','ja','ka','la','ma','na','nga','nya','pa','ra','sa','ta','wa','ya'])\n",
        "print(clr)"
      ]
    },
    {
      "cell_type": "code",
      "execution_count": 17,
      "metadata": {},
      "outputs": [],
      "source": [
        "MODEL_FILENAME = root_path+\"/modelpengujian04_3x3_arsitektur2.h5\"\n",
        "model.save(MODEL_FILENAME)"
      ]
    }
  ],
  "metadata": {
    "accelerator": "GPU",
    "colab": {
      "provenance": []
    },
    "gpuClass": "standard",
    "kernelspec": {
      "display_name": ".venv",
      "language": "python",
      "name": "python3"
    },
    "language_info": {
      "codemirror_mode": {
        "name": "ipython",
        "version": 3
      },
      "file_extension": ".py",
      "mimetype": "text/x-python",
      "name": "python",
      "nbconvert_exporter": "python",
      "pygments_lexer": "ipython3",
      "version": "3.11.2"
    },
    "vscode": {
      "interpreter": {
        "hash": "24dc7b20f56b03d1f16e6cc38505b58c26a9c0d2aa82b50d0cbd183a5ef7f314"
      }
    }
  },
  "nbformat": 4,
  "nbformat_minor": 0
}
