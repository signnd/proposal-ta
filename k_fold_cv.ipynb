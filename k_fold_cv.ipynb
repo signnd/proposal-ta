{
  "cells": [
    {
      "attachments": {},
      "cell_type": "markdown",
      "metadata": {
        "id": "QYRH4VUw8L9m"
      },
      "source": [
        "from: https://github.com/SadmanSakib93/Stratified-k-fold-cross-validation-Image-classification-keras/blob/master/stratified_K_fold_CV.ipynb"
      ]
    },
    {
      "cell_type": "code",
      "execution_count": 1,
      "metadata": {
        "id": "gdTY892I7gOi"
      },
      "outputs": [
        {
          "name": "stderr",
          "output_type": "stream",
          "text": [
            "2023-05-10 11:24:15.655542: I tensorflow/core/platform/cpu_feature_guard.cc:182] This TensorFlow binary is optimized to use available CPU instructions in performance-critical operations.\n",
            "To enable the following instructions: AVX2 AVX512F FMA, in other operations, rebuild TensorFlow with the appropriate compiler flags.\n",
            "2023-05-10 11:24:19.549425: W tensorflow/compiler/tf2tensorrt/utils/py_utils.cc:38] TF-TRT Warning: Could not find TensorRT\n"
          ]
        }
      ],
      "source": [
        "import numpy as np\n",
        "from sklearn.metrics import accuracy_score, f1_score, precision_score, confusion_matrix\n",
        "from sklearn.model_selection import StratifiedKFold\n",
        "from PIL import Image\n",
        "import random\n",
        "import tensorflow as tf\n",
        "from tensorflow.keras.models import Sequential\n",
        "from keras.preprocessing.image import ImageDataGenerator\n",
        "from tensorflow.keras.layers import Dense, Dropout, Flatten, Conv2D, MaxPooling2D\n",
        "\n",
        "from tensorflow.compat.v1 import ConfigProto\n",
        "from tensorflow.compat.v1 import InteractiveSession\n",
        "import warnings\n",
        "import os\n",
        "import shutil\n",
        "from PIL import ImageFile\n",
        "warnings.simplefilter('error', Image.DecompressionBombWarning)\n",
        "ImageFile.LOAD_TRUNCATED_IMAGES = True\n",
        "Image.MAX_IMAGE_PIXELS = 1000000000\n",
        "config = ConfigProto()\n",
        "config.gpu_options.allow_growth = True\n",
        "session = InteractiveSession(config=config)"
      ]
    },
    {
      "cell_type": "code",
      "execution_count": 2,
      "metadata": {
        "colab": {
          "base_uri": "https://localhost:8080/"
        },
        "id": "FuDNA6xw8ngT",
        "outputId": "3949ad37-1348-45ab-d16d-eba8a5e4532b"
      },
      "outputs": [],
      "source": [
        "\"\"\"from google.colab import drive\n",
        "drive.mount('/content/drive')\n",
        "!ls\n",
        "import sys\n",
        "# This is the path to where in google drive the code is stored!\n",
        "root_path = '/content/drive/My Drive/'\n",
        "sys.path.append(root_path)\n",
        "\"\"\"\n",
        "\n",
        "root_path = '/workspaces/proposal-ta/images/'"
      ]
    },
    {
      "cell_type": "code",
      "execution_count": 3,
      "metadata": {
        "id": "E8wVsnsN8_ZB"
      },
      "outputs": [],
      "source": [
        "### UBAH NAMA FILE MODEL SESUAI PENGUJIAN DI SINI\n",
        "dataset_folder_name = os.path.join(root_path, '')\n",
        "source_files = []\n",
        "class_labels = ['a', 'ba', 'ca', 'da', 'ga', \n",
        "                'ja', 'ka','la','ma', 'na', \n",
        "                'nga', 'nya','pa', 'ra', 'sa', \n",
        "                'ta', 'wa', 'ya']\n",
        "X = []\n",
        "Y = []\n",
        "\n",
        "img_rows, img_cols = 120, 120 # input image dimensions\n",
        "train_path = os.path.join(dataset_folder_name, 'train')\n",
        "validation_path = os.path.join(dataset_folder_name, 'validation')\n",
        "test_path = os.path.join(dataset_folder_name, 'test')"
      ]
    },
    {
      "cell_type": "code",
      "execution_count": 4,
      "metadata": {},
      "outputs": [],
      "source": [
        "# augmentasi data\n",
        "# bisa jadi sebelum atau setelah split"
      ]
    },
    {
      "cell_type": "code",
      "execution_count": 5,
      "metadata": {
        "id": "hQTAVyDu92QO"
      },
      "outputs": [],
      "source": [
        "def transfer_between_folders(source, dest, split_rate):\n",
        "    \"\"\" Based on the split ratio this function moves some portion of the source folder to destination folder!\n",
        "\n",
        "        Args:\n",
        "            source: str\n",
        "                Source folder's path\n",
        "            dest: str\n",
        "                Destination folder's path\n",
        "            split_rate: float\n",
        "                Ratio of files to move from source to dest location\n",
        "\n",
        "    \"\"\"\n",
        "    global source_files\n",
        "    source_files = os.listdir(source)\n",
        "    if(len(source_files) != 0):\n",
        "        transfer_file_numbers = int(len(source_files)*split_rate)\n",
        "        transfer_index = random.sample(\n",
        "            range(0, len(source_files)), transfer_file_numbers)\n",
        "        for each_index in transfer_index:\n",
        "            shutil.move(os.path.join(source, str(source_files[each_index])), os.path.join(\n",
        "                dest, str(source_files[each_index])))\n",
        "\n",
        "    else:\n",
        "        print(\"No file moved. Source empty!\")\n",
        "\n",
        "\n",
        "def transfer_all_class_between_folders(source, dest, split_rate):\n",
        "    \"\"\" Transfer the files from source to dest for all the classes. This function calls the 'transfer_between_folders' to actually perform the transfer.\n",
        "\n",
        "        Args:\n",
        "            source: str\n",
        "                Source folder's path\n",
        "            dest: str\n",
        "                Destination folder's path\n",
        "            split_rate: float\n",
        "                Ratio of files to move from source to dest location\n",
        "\n",
        "    \"\"\"\n",
        "    for label in class_labels:\n",
        "        transfer_between_folders(os.path.join(dataset_folder_name, source, label),\n",
        "                                 os.path.join(\n",
        "                                     dataset_folder_name, dest, label),\n",
        "                                 split_rate)\n",
        "\n",
        "\n",
        "def my_metrics(y_true, y_pred):\n",
        "    \"\"\" Calculate accuracy, precision, and f1 score of the model's prediction with respect to true labels.\n",
        "\n",
        "        Args:\n",
        "            y_true: list/array\n",
        "                All true class labels\n",
        "            y_pred: list/array\n",
        "                All predicted class labels\n",
        "\n",
        "        Returns:\n",
        "            accuracy: float\n",
        "                Accuracy measure of the model\n",
        "            precision: float\n",
        "                Precision measure of the model\n",
        "            f1_Score: float\n",
        "                F1-score measure of the model\n",
        "\n",
        "    \"\"\"\n",
        "    accuracy = accuracy_score(y_true, y_pred)\n",
        "    precision = precision_score(y_true, y_pred, average='weighted')\n",
        "    f1_Score = f1_score(y_true, y_pred, average='weighted')\n",
        "    print(\"Accuracy  : {}\".format(accuracy))\n",
        "    print(\"Precision : {}\".format(precision))\n",
        "    print(\"f1Score : {}\".format(f1_Score))\n",
        "    cm = confusion_matrix(y_true, y_pred)\n",
        "    print(cm)\n",
        "    return accuracy, precision, f1_Score"
      ]
    },
    {
      "cell_type": "code",
      "execution_count": 6,
      "metadata": {
        "id": "fTSdYcqD-IW5"
      },
      "outputs": [],
      "source": [
        "transfer_all_class_between_folders('test','train', 1.0)\n",
        "#transfer_all_class_between_folders('validation','train', 1.0)"
      ]
    },
    {
      "cell_type": "code",
      "execution_count": 7,
      "metadata": {
        "id": "9TdfECoaBoja"
      },
      "outputs": [],
      "source": [
        "transfer_all_class_between_folders('train', 'test', 0.20)"
      ]
    },
    {
      "cell_type": "code",
      "execution_count": 8,
      "metadata": {
        "id": "HAeKZkmDBuCx"
      },
      "outputs": [],
      "source": [
        "def prepare_name_with_labels(folder_name, dataset_type='train'):\n",
        "    \"\"\" Prepare the file names (X) and the class labels (Y) from folder location of images.\n",
        "\n",
        "        Args:\n",
        "            folder_name: str\n",
        "                Source folder's path\n",
        "\n",
        "    \"\"\"\n",
        "    source_files = os.listdir(os.path.join(dataset_folder_name, dataset_type, folder_name))\n",
        "    y_label = 0\n",
        "    for i in range(len(class_labels)):\n",
        "        if(folder_name == class_labels[i]):\n",
        "            y_label = i\n",
        "    for val in source_files:\n",
        "        X.append(val)\n",
        "        Y.append(y_label)"
      ]
    },
    {
      "cell_type": "code",
      "execution_count": 9,
      "metadata": {
        "id": "ZXi4N1qSBy8A"
      },
      "outputs": [],
      "source": [
        "# Organize file names and class labels in X and Y variables\n",
        "for i in range(len(class_labels)):\n",
        "    prepare_name_with_labels(class_labels[i])"
      ]
    },
    {
      "cell_type": "code",
      "execution_count": 10,
      "metadata": {
        "id": "h3aTsDa5B155"
      },
      "outputs": [],
      "source": [
        "X = np.asarray(X)\n",
        "Y = np.asarray(Y)"
      ]
    },
    {
      "cell_type": "code",
      "execution_count": 11,
      "metadata": {
        "id": "8DKyU0MOB3Tj"
      },
      "outputs": [],
      "source": [
        "# arsitektur\n",
        "batch_size = 32\n",
        "epoch = 15\n",
        "num_of_channels = 3\n",
        "number_of_class_labels = len(class_labels)"
      ]
    },
    {
      "cell_type": "code",
      "execution_count": 12,
      "metadata": {
        "id": "1ljNTaGaCIzc"
      },
      "outputs": [
        {
          "name": "stdout",
          "output_type": "stream",
          "text": [
            "Model: \"sequential\"\n",
            "_________________________________________________________________\n",
            " Layer (type)                Output Shape              Param #   \n",
            "=================================================================\n",
            " conv2d (Conv2D)             (None, 120, 120, 64)      1792      \n",
            "                                                                 \n",
            " conv2d_1 (Conv2D)           (None, 118, 118, 64)      36928     \n",
            "                                                                 \n",
            " max_pooling2d (MaxPooling2D  (None, 59, 59, 64)       0         \n",
            " )                                                               \n",
            "                                                                 \n",
            " dropout (Dropout)           (None, 59, 59, 64)        0         \n",
            "                                                                 \n",
            " conv2d_2 (Conv2D)           (None, 59, 59, 32)        18464     \n",
            "                                                                 \n",
            " conv2d_3 (Conv2D)           (None, 57, 57, 32)        9248      \n",
            "                                                                 \n",
            " max_pooling2d_1 (MaxPooling  (None, 28, 28, 32)       0         \n",
            " 2D)                                                             \n",
            "                                                                 \n",
            " dropout_1 (Dropout)         (None, 28, 28, 32)        0         \n",
            "                                                                 \n",
            " conv2d_4 (Conv2D)           (None, 28, 28, 16)        4624      \n",
            "                                                                 \n",
            " conv2d_5 (Conv2D)           (None, 26, 26, 16)        2320      \n",
            "                                                                 \n",
            " max_pooling2d_2 (MaxPooling  (None, 13, 13, 16)       0         \n",
            " 2D)                                                             \n",
            "                                                                 \n",
            " dropout_2 (Dropout)         (None, 13, 13, 16)        0         \n",
            "                                                                 \n",
            " flatten (Flatten)           (None, 2704)              0         \n",
            "                                                                 \n",
            " dense (Dense)               (None, 128)               346240    \n",
            "                                                                 \n",
            " dense_1 (Dense)             (None, 18)                2322      \n",
            "                                                                 \n",
            "=================================================================\n",
            "Total params: 421,938\n",
            "Trainable params: 421,938\n",
            "Non-trainable params: 0\n",
            "_________________________________________________________________\n"
          ]
        }
      ],
      "source": [
        "\"\"\"\n",
        "    Note that, this model structure is a very basic one. \n",
        "    To achieve better performance, you should change the model structure and hyperparameters according to your needs and data. \n",
        "    So, optimize the structure of the model!\n",
        "\"\"\"\n",
        "\n",
        "def get_model():\n",
        "    activation_function = 'relu'\n",
        "\n",
        "    model = Sequential()\n",
        "    model.add(Conv2D(64, (3,3), padding='same',\n",
        "                     activation=activation_function, input_shape=(img_rows, img_cols, num_of_channels)))\n",
        "    model.add(Conv2D(64, (3,3), activation=activation_function))\n",
        "    model.add(MaxPooling2D(pool_size=(2, 2)))\n",
        "    model.add(Dropout(0.25))\n",
        "\n",
        "    model.add(Conv2D(32, (3,3), padding='same',\n",
        "                     activation=activation_function))\n",
        "    model.add(Conv2D(32, (3,3), activation=activation_function))\n",
        "    model.add(MaxPooling2D(pool_size=(2, 2)))\n",
        "    model.add(Dropout(0.25))\n",
        "\n",
        "    model.add(Conv2D(16, (3,3), padding='same',\n",
        "                     activation=activation_function))\n",
        "    model.add(Conv2D(16, (3,3), activation=activation_function))\n",
        "    model.add(MaxPooling2D(pool_size=(2, 2)))\n",
        "    model.add(Dropout(0.25))\n",
        "\n",
        "    #model.add(Conv2D(64, (3,3), padding='same',\n",
        "    #                 activation=activation_function))\n",
        "    #model.add(MaxPooling2D(pool_size=(2, 2)))\n",
        "    #model.add(Dropout(0.25))\n",
        "    \n",
        "    #model.add(Conv2D(64, (3,3), padding='same',\n",
        "    #                 activation=activation_function))\n",
        "    #model.add(MaxPooling2D(pool_size=(2, 2)))\n",
        "    #model.add(Dropout(0.25))\n",
        "\n",
        "    #model.add(Conv2D(128, (3,3), padding='same',\n",
        "    #                 activation=activation_function))\n",
        "    #model.add(MaxPooling2D(pool_size=(2, 2)))\n",
        "    #model.add(Dropout(0.25))\n",
        "\n",
        "    model.add(Flatten())\n",
        "    model.add(Dense(128, activation=activation_function))\n",
        "    #model.add(Dropout(0.1))\n",
        "    #model.add(Dense(32, activation=activation_function))\n",
        "    #model.add(Dropout(0.1))\n",
        "    #model.add(Dense(16, activation=activation_function))\n",
        "    #model.add(Dropout(0.1))\n",
        "    model.add(Dense(number_of_class_labels, activation='softmax'))\n",
        "\n",
        "    optimizer=tf.keras.optimizers.Adam(learning_rate=0.0005)\n",
        "\n",
        "    model.compile(optimizer=optimizer, loss='categorical_crossentropy',\n",
        "                  metrics=['accuracy'])\n",
        "\n",
        "    return model\n",
        "\n",
        "\n",
        "model = get_model()\n",
        "model.summary()\n",
        "#"
      ]
    },
    {
      "cell_type": "code",
      "execution_count": 13,
      "metadata": {},
      "outputs": [],
      "source": [
        "#model = tf.keras.Sequential([\n",
        "#    tf.keras.layers.Conv2D(32, (3, 3), activation='relu', input_shape=(120, 120, 3)),\n",
        "#    tf.keras.layers.MaxPooling2D(2, 2),\n",
        "#    tf.keras.layers.Dropout(0.25),\n",
        "#    tf.keras.layers.Conv2D(32, (3, 3), activation='relu'),\n",
        "#    tf.keras.layers.MaxPooling2D(2, 2),\n",
        "#    tf.keras.layers.Dropout(0.25),\n",
        "#    tf.keras.layers.Conv2D(64, (3, 3), activation='relu'),\n",
        "#    tf.keras.layers.MaxPooling2D(2, 2),\n",
        "#    tf.keras.layers.Dropout(0.25),\n",
        "#    tf.keras.layers.Conv2D(64, (3, 3), activation='relu'),\n",
        "#    tf.keras.layers.MaxPooling2D(2, 2),\n",
        "#    tf.keras.layers.Dropout(0.25),\n",
        "#    tf.keras.layers.Conv2D(128, (3, 3), activation='relu'),\n",
        "#    tf.keras.layers.MaxPooling2D(2, 2),\n",
        "#    tf.keras.layers.Dropout(0.25),\n",
        "#    #tf.keras.layers.Conv2D(32, (3, 3), activation='relu'),\n",
        "#    #tf.keras.layers.MaxPooling2D(2, 2),\n",
        "#    tf.keras.layers.Flatten(),\n",
        "#    #tf.keras.layers.Dropout(0.2),\n",
        "#    tf.keras.layers.Dense(128, activation='relu'),\n",
        "#    tf.keras.layers.Dense(18, activation='softmax')\n",
        "#])\n",
        "#\n",
        "#optimizer=tf.keras.optimizers.Adam(learning_rate=0.001)\n",
        "#\n",
        "#model.compile(\n",
        "#    #optimizer='adam', \n",
        "#    optimizer=optimizer,\n",
        "#    loss='categorical_crossentropy',\n",
        "#    metrics=['accuracy'],\n",
        "#)\n",
        "#\n",
        "#model.summary()"
      ]
    },
    {
      "cell_type": "code",
      "execution_count": 14,
      "metadata": {
        "colab": {
          "base_uri": "https://localhost:8080/"
        },
        "id": "Q1i-6r91CUX5",
        "outputId": "285f1950-226b-4d2d-f6dd-467389dd1662"
      },
      "outputs": [
        {
          "name": "stdout",
          "output_type": "stream",
          "text": [
            "Results for fold 1\n",
            "Found 1128 images belonging to 18 classes.\n",
            "Found 116 images belonging to 18 classes.\n",
            "Epoch 1/15\n"
          ]
        },
        {
          "name": "stderr",
          "output_type": "stream",
          "text": [
            "2023-05-10 11:24:25.897328: I tensorflow/core/common_runtime/executor.cc:1197] [/device:CPU:0] (DEBUG INFO) Executor start aborting (this does not indicate an error and you can ignore this message): INVALID_ARGUMENT: You must feed a value for placeholder tensor 'Placeholder/_0' with dtype int32\n",
            "\t [[{{node Placeholder/_0}}]]\n"
          ]
        },
        {
          "name": "stdout",
          "output_type": "stream",
          "text": [
            "36/36 [==============================] - 57s 2s/step - loss: 2.8968 - accuracy: 0.0488\n",
            "Epoch 2/15\n",
            "36/36 [==============================] - 54s 2s/step - loss: 2.8908 - accuracy: 0.0612\n",
            "Epoch 3/15\n",
            "36/36 [==============================] - 52s 1s/step - loss: 2.8907 - accuracy: 0.0514\n",
            "Epoch 4/15\n",
            "36/36 [==============================] - 53s 1s/step - loss: 2.8909 - accuracy: 0.0479\n",
            "Epoch 5/15\n",
            "36/36 [==============================] - 52s 1s/step - loss: 2.8907 - accuracy: 0.0470\n",
            "Epoch 6/15\n",
            "36/36 [==============================] - 53s 1s/step - loss: 2.8909 - accuracy: 0.0514\n",
            "Epoch 7/15\n",
            "36/36 [==============================] - 53s 1s/step - loss: 2.8918 - accuracy: 0.0470\n",
            "Epoch 8/15\n",
            "36/36 [==============================] - 53s 1s/step - loss: 2.8909 - accuracy: 0.0567\n",
            "Epoch 9/15\n",
            "36/36 [==============================] - 52s 1s/step - loss: 2.8906 - accuracy: 0.0559\n",
            "Epoch 10/15\n",
            "36/36 [==============================] - 52s 1s/step - loss: 2.8907 - accuracy: 0.0479\n",
            "Epoch 11/15\n",
            "36/36 [==============================] - 52s 1s/step - loss: 2.8906 - accuracy: 0.0514\n",
            "Epoch 12/15\n",
            "36/36 [==============================] - 53s 1s/step - loss: 2.8905 - accuracy: 0.0559\n",
            "Epoch 13/15\n",
            "36/36 [==============================] - 54s 1s/step - loss: 2.8905 - accuracy: 0.0541\n",
            "Epoch 14/15\n",
            "36/36 [==============================] - 53s 1s/step - loss: 2.8905 - accuracy: 0.0461\n",
            "Epoch 15/15\n",
            "36/36 [==============================] - 53s 2s/step - loss: 2.8905 - accuracy: 0.0496\n"
          ]
        },
        {
          "name": "stderr",
          "output_type": "stream",
          "text": [
            "2023-05-10 11:38:10.288607: I tensorflow/core/common_runtime/executor.cc:1197] [/device:CPU:0] (DEBUG INFO) Executor start aborting (this does not indicate an error and you can ignore this message): INVALID_ARGUMENT: You must feed a value for placeholder tensor 'Placeholder/_0' with dtype int32\n",
            "\t [[{{node Placeholder/_0}}]]\n"
          ]
        },
        {
          "name": "stdout",
          "output_type": "stream",
          "text": [
            "4/4 [==============================] - 1s 259ms/step\n",
            "***Performance on Validation data***\n",
            "Accuracy  : 0.05172413793103448\n",
            "Precision : 0.00267538644470868\n",
            "f1Score : 0.005087620124364047\n",
            "[[0 0 0 0 0 0 7 0 0 0 0 0 0 0 0 0 0 0]\n",
            " [0 0 0 0 0 0 6 0 0 0 0 0 0 0 0 0 0 0]\n",
            " [0 0 0 0 0 0 7 0 0 0 0 0 0 0 0 0 0 0]\n",
            " [0 0 0 0 0 0 6 0 0 0 0 0 0 0 0 0 0 0]\n",
            " [0 0 0 0 0 0 6 0 0 0 0 0 0 0 0 0 0 0]\n",
            " [0 0 0 0 0 0 7 0 0 0 0 0 0 0 0 0 0 0]\n",
            " [0 0 0 0 0 0 6 0 0 0 0 0 0 0 0 0 0 0]\n",
            " [0 0 0 0 0 0 7 0 0 0 0 0 0 0 0 0 0 0]\n",
            " [0 0 0 0 0 0 6 0 0 0 0 0 0 0 0 0 0 0]\n",
            " [0 0 0 0 0 0 6 0 0 0 0 0 0 0 0 0 0 0]\n",
            " [0 0 0 0 0 0 7 0 0 0 0 0 0 0 0 0 0 0]\n",
            " [0 0 0 0 0 0 6 0 0 0 0 0 0 0 0 0 0 0]\n",
            " [0 0 0 0 0 0 7 0 0 0 0 0 0 0 0 0 0 0]\n",
            " [0 0 0 0 0 0 6 0 0 0 0 0 0 0 0 0 0 0]\n",
            " [0 0 0 0 0 0 6 0 0 0 0 0 0 0 0 0 0 0]\n",
            " [0 0 0 0 0 0 7 0 0 0 0 0 0 0 0 0 0 0]\n",
            " [0 0 0 0 0 0 6 0 0 0 0 0 0 0 0 0 0 0]\n",
            " [0 0 0 0 0 0 7 0 0 0 0 0 0 0 0 0 0 0]]\n",
            "Results for fold 2\n",
            "Found 1128 images belonging to 18 classes.\n",
            "Found 116 images belonging to 18 classes.\n",
            "Epoch 1/15\n"
          ]
        },
        {
          "name": "stderr",
          "output_type": "stream",
          "text": [
            "/home/vscode/.local/lib/python3.11/site-packages/sklearn/metrics/_classification.py:1344: UndefinedMetricWarning: Precision is ill-defined and being set to 0.0 in labels with no predicted samples. Use `zero_division` parameter to control this behavior.\n",
            "  _warn_prf(average, modifier, msg_start, len(result))\n",
            "2023-05-10 11:38:11.665737: I tensorflow/core/common_runtime/executor.cc:1197] [/device:CPU:0] (DEBUG INFO) Executor start aborting (this does not indicate an error and you can ignore this message): INVALID_ARGUMENT: You must feed a value for placeholder tensor 'Placeholder/_0' with dtype int32\n",
            "\t [[{{node Placeholder/_0}}]]\n"
          ]
        },
        {
          "name": "stdout",
          "output_type": "stream",
          "text": [
            "36/36 [==============================] - 53s 1s/step - loss: 2.8906 - accuracy: 0.0532\n",
            "Epoch 2/15\n",
            "36/36 [==============================] - 53s 1s/step - loss: 2.8905 - accuracy: 0.0541\n",
            "Epoch 3/15\n",
            "36/36 [==============================] - 53s 1s/step - loss: 2.8906 - accuracy: 0.0496\n",
            "Epoch 4/15\n",
            "36/36 [==============================] - 54s 2s/step - loss: 2.8905 - accuracy: 0.0559\n",
            "Epoch 5/15\n",
            "36/36 [==============================] - 54s 1s/step - loss: 2.8905 - accuracy: 0.0576\n",
            "Epoch 6/15\n",
            "36/36 [==============================] - 53s 1s/step - loss: 2.8905 - accuracy: 0.0541\n",
            "Epoch 7/15\n",
            "36/36 [==============================] - 54s 1s/step - loss: 2.8905 - accuracy: 0.0514\n",
            "Epoch 8/15\n",
            "36/36 [==============================] - 54s 1s/step - loss: 2.8905 - accuracy: 0.0505\n",
            "Epoch 9/15\n",
            "36/36 [==============================] - 54s 2s/step - loss: 2.8905 - accuracy: 0.0514\n",
            "Epoch 10/15\n",
            "36/36 [==============================] - 54s 1s/step - loss: 2.8906 - accuracy: 0.0523\n",
            "Epoch 11/15\n",
            "36/36 [==============================] - 54s 1s/step - loss: 2.8905 - accuracy: 0.0559\n",
            "Epoch 12/15\n",
            "36/36 [==============================] - 54s 1s/step - loss: 2.8905 - accuracy: 0.0612\n",
            "Epoch 13/15\n",
            "36/36 [==============================] - 53s 1s/step - loss: 2.8905 - accuracy: 0.0567\n",
            "Epoch 14/15\n",
            "36/36 [==============================] - 54s 2s/step - loss: 2.8905 - accuracy: 0.0567\n",
            "Epoch 15/15\n",
            "36/36 [==============================] - 56s 2s/step - loss: 2.8905 - accuracy: 0.0567\n"
          ]
        },
        {
          "name": "stderr",
          "output_type": "stream",
          "text": [
            "2023-05-10 11:51:38.999703: I tensorflow/core/common_runtime/executor.cc:1197] [/device:CPU:0] (DEBUG INFO) Executor start aborting (this does not indicate an error and you can ignore this message): INVALID_ARGUMENT: You must feed a value for placeholder tensor 'Placeholder/_0' with dtype int32\n",
            "\t [[{{node Placeholder/_0}}]]\n"
          ]
        },
        {
          "name": "stdout",
          "output_type": "stream",
          "text": [
            "4/4 [==============================] - 1s 271ms/step\n",
            "***Performance on Validation data***\n",
            "Accuracy  : 0.05172413793103448\n",
            "Precision : 0.00267538644470868\n",
            "f1Score : 0.005087620124364047\n",
            "[[0 0 0 0 0 0 7 0 0 0 0 0 0 0 0 0 0 0]\n",
            " [0 0 0 0 0 0 6 0 0 0 0 0 0 0 0 0 0 0]\n",
            " [0 0 0 0 0 0 7 0 0 0 0 0 0 0 0 0 0 0]\n",
            " [0 0 0 0 0 0 6 0 0 0 0 0 0 0 0 0 0 0]\n",
            " [0 0 0 0 0 0 6 0 0 0 0 0 0 0 0 0 0 0]\n",
            " [0 0 0 0 0 0 7 0 0 0 0 0 0 0 0 0 0 0]\n",
            " [0 0 0 0 0 0 6 0 0 0 0 0 0 0 0 0 0 0]\n",
            " [0 0 0 0 0 0 7 0 0 0 0 0 0 0 0 0 0 0]\n",
            " [0 0 0 0 0 0 6 0 0 0 0 0 0 0 0 0 0 0]\n",
            " [0 0 0 0 0 0 6 0 0 0 0 0 0 0 0 0 0 0]\n",
            " [0 0 0 0 0 0 7 0 0 0 0 0 0 0 0 0 0 0]\n",
            " [0 0 0 0 0 0 6 0 0 0 0 0 0 0 0 0 0 0]\n",
            " [0 0 0 0 0 0 7 0 0 0 0 0 0 0 0 0 0 0]\n",
            " [0 0 0 0 0 0 6 0 0 0 0 0 0 0 0 0 0 0]\n",
            " [0 0 0 0 0 0 6 0 0 0 0 0 0 0 0 0 0 0]\n",
            " [0 0 0 0 0 0 7 0 0 0 0 0 0 0 0 0 0 0]\n",
            " [0 0 0 0 0 0 6 0 0 0 0 0 0 0 0 0 0 0]\n",
            " [0 0 0 0 0 0 7 0 0 0 0 0 0 0 0 0 0 0]]\n",
            "Results for fold 3\n",
            "Found 1129 images belonging to 18 classes.\n",
            "Found 115 images belonging to 18 classes.\n",
            "Epoch 1/15\n"
          ]
        },
        {
          "name": "stderr",
          "output_type": "stream",
          "text": [
            "/home/vscode/.local/lib/python3.11/site-packages/sklearn/metrics/_classification.py:1344: UndefinedMetricWarning: Precision is ill-defined and being set to 0.0 in labels with no predicted samples. Use `zero_division` parameter to control this behavior.\n",
            "  _warn_prf(average, modifier, msg_start, len(result))\n",
            "2023-05-10 11:51:40.341204: I tensorflow/core/common_runtime/executor.cc:1197] [/device:CPU:0] (DEBUG INFO) Executor start aborting (this does not indicate an error and you can ignore this message): INVALID_ARGUMENT: You must feed a value for placeholder tensor 'Placeholder/_0' with dtype int32\n",
            "\t [[{{node Placeholder/_0}}]]\n"
          ]
        },
        {
          "name": "stdout",
          "output_type": "stream",
          "text": [
            "36/36 [==============================] - 56s 2s/step - loss: 2.8905 - accuracy: 0.0567\n",
            "Epoch 2/15\n",
            "36/36 [==============================] - 55s 2s/step - loss: 2.8905 - accuracy: 0.0567\n",
            "Epoch 3/15\n",
            "36/36 [==============================] - 57s 2s/step - loss: 2.8906 - accuracy: 0.0567\n",
            "Epoch 4/15\n",
            "36/36 [==============================] - 56s 2s/step - loss: 2.8906 - accuracy: 0.0567\n",
            "Epoch 5/15\n",
            "36/36 [==============================] - 55s 2s/step - loss: 2.8906 - accuracy: 0.0567\n",
            "Epoch 6/15\n",
            "36/36 [==============================] - 57s 2s/step - loss: 2.8905 - accuracy: 0.0567\n",
            "Epoch 7/15\n",
            "36/36 [==============================] - 56s 2s/step - loss: 2.8905 - accuracy: 0.0549\n",
            "Epoch 8/15\n",
            "36/36 [==============================] - 62s 2s/step - loss: 2.8906 - accuracy: 0.0496\n",
            "Epoch 9/15\n",
            "36/36 [==============================] - 61s 2s/step - loss: 2.8914 - accuracy: 0.0638\n",
            "Epoch 10/15\n",
            "36/36 [==============================] - 58s 2s/step - loss: 2.8913 - accuracy: 0.0496\n",
            "Epoch 11/15\n",
            "36/36 [==============================] - 56s 2s/step - loss: 2.8905 - accuracy: 0.0567\n",
            "Epoch 12/15\n",
            "36/36 [==============================] - 56s 2s/step - loss: 2.8907 - accuracy: 0.0567\n",
            "Epoch 13/15\n",
            "36/36 [==============================] - 56s 2s/step - loss: 2.8905 - accuracy: 0.0567\n",
            "Epoch 14/15\n",
            "36/36 [==============================] - 55s 2s/step - loss: 2.8906 - accuracy: 0.0567\n",
            "Epoch 15/15\n",
            "36/36 [==============================] - 56s 2s/step - loss: 2.8905 - accuracy: 0.0567\n"
          ]
        },
        {
          "name": "stderr",
          "output_type": "stream",
          "text": [
            "2023-05-10 12:05:52.286893: I tensorflow/core/common_runtime/executor.cc:1197] [/device:CPU:0] (DEBUG INFO) Executor start aborting (this does not indicate an error and you can ignore this message): INVALID_ARGUMENT: You must feed a value for placeholder tensor 'Placeholder/_0' with dtype int32\n",
            "\t [[{{node Placeholder/_0}}]]\n"
          ]
        },
        {
          "name": "stdout",
          "output_type": "stream",
          "text": [
            "4/4 [==============================] - 1s 261ms/step\n",
            "***Performance on Validation data***\n",
            "Accuracy  : 0.05217391304347826\n",
            "Precision : 0.0027221172022684308\n",
            "f1Score : 0.0051742723679482575\n",
            "[[0 0 0 0 0 0 0 0 0 0 0 0 7 0 0 0 0 0]\n",
            " [0 0 0 0 0 0 0 0 0 0 0 0 6 0 0 0 0 0]\n",
            " [0 0 0 0 0 0 0 0 0 0 0 0 6 0 0 0 0 0]\n",
            " [0 0 0 0 0 0 0 0 0 0 0 0 7 0 0 0 0 0]\n",
            " [0 0 0 0 0 0 0 0 0 0 0 0 6 0 0 0 0 0]\n",
            " [0 0 0 0 0 0 0 0 0 0 0 0 7 0 0 0 0 0]\n",
            " [0 0 0 0 0 0 0 0 0 0 0 0 6 0 0 0 0 0]\n",
            " [0 0 0 0 0 0 0 0 0 0 0 0 6 0 0 0 0 0]\n",
            " [0 0 0 0 0 0 0 0 0 0 0 0 7 0 0 0 0 0]\n",
            " [0 0 0 0 0 0 0 0 0 0 0 0 6 0 0 0 0 0]\n",
            " [0 0 0 0 0 0 0 0 0 0 0 0 7 0 0 0 0 0]\n",
            " [0 0 0 0 0 0 0 0 0 0 0 0 6 0 0 0 0 0]\n",
            " [0 0 0 0 0 0 0 0 0 0 0 0 6 0 0 0 0 0]\n",
            " [0 0 0 0 0 0 0 0 0 0 0 0 7 0 0 0 0 0]\n",
            " [0 0 0 0 0 0 0 0 0 0 0 0 6 0 0 0 0 0]\n",
            " [0 0 0 0 0 0 0 0 0 0 0 0 7 0 0 0 0 0]\n",
            " [0 0 0 0 0 0 0 0 0 0 0 0 6 0 0 0 0 0]\n",
            " [0 0 0 0 0 0 0 0 0 0 0 0 6 0 0 0 0 0]]\n",
            "Results for fold 4\n",
            "Found 1129 images belonging to 18 classes.\n",
            "Found 115 images belonging to 18 classes.\n",
            "Epoch 1/15\n"
          ]
        },
        {
          "name": "stderr",
          "output_type": "stream",
          "text": [
            "/home/vscode/.local/lib/python3.11/site-packages/sklearn/metrics/_classification.py:1344: UndefinedMetricWarning: Precision is ill-defined and being set to 0.0 in labels with no predicted samples. Use `zero_division` parameter to control this behavior.\n",
            "  _warn_prf(average, modifier, msg_start, len(result))\n",
            "2023-05-10 12:05:53.609325: I tensorflow/core/common_runtime/executor.cc:1197] [/device:CPU:0] (DEBUG INFO) Executor start aborting (this does not indicate an error and you can ignore this message): INVALID_ARGUMENT: You must feed a value for placeholder tensor 'Placeholder/_0' with dtype int32\n",
            "\t [[{{node Placeholder/_0}}]]\n"
          ]
        },
        {
          "name": "stdout",
          "output_type": "stream",
          "text": [
            "36/36 [==============================] - 58s 2s/step - loss: 2.8905 - accuracy: 0.0567\n",
            "Epoch 2/15\n",
            "36/36 [==============================] - 57s 2s/step - loss: 2.8905 - accuracy: 0.0523\n",
            "Epoch 3/15\n",
            "36/36 [==============================] - 57s 2s/step - loss: 2.8906 - accuracy: 0.0567\n",
            "Epoch 4/15\n",
            "36/36 [==============================] - 57s 2s/step - loss: 2.8905 - accuracy: 0.0567\n",
            "Epoch 5/15\n",
            "36/36 [==============================] - 57s 2s/step - loss: 2.8905 - accuracy: 0.0567\n",
            "Epoch 6/15\n",
            "36/36 [==============================] - 58s 2s/step - loss: 2.8905 - accuracy: 0.0567\n",
            "Epoch 7/15\n",
            "36/36 [==============================] - 57s 2s/step - loss: 2.8905 - accuracy: 0.0567\n",
            "Epoch 8/15\n",
            "36/36 [==============================] - 56s 2s/step - loss: 2.8905 - accuracy: 0.0505\n",
            "Epoch 9/15\n",
            "36/36 [==============================] - 57s 2s/step - loss: 2.8905 - accuracy: 0.0567\n",
            "Epoch 10/15\n",
            "36/36 [==============================] - 57s 2s/step - loss: 2.8905 - accuracy: 0.0567\n",
            "Epoch 11/15\n",
            "36/36 [==============================] - 57s 2s/step - loss: 2.8905 - accuracy: 0.0567\n",
            "Epoch 12/15\n",
            "36/36 [==============================] - 56s 2s/step - loss: 2.8905 - accuracy: 0.0567\n",
            "Epoch 13/15\n",
            "36/36 [==============================] - 56s 2s/step - loss: 2.8905 - accuracy: 0.0567\n",
            "Epoch 14/15\n",
            "36/36 [==============================] - 57s 2s/step - loss: 2.8906 - accuracy: 0.0514\n",
            "Epoch 15/15\n",
            "36/36 [==============================] - 56s 2s/step - loss: 2.8905 - accuracy: 0.0567\n"
          ]
        },
        {
          "name": "stderr",
          "output_type": "stream",
          "text": [
            "2023-05-10 12:20:32.647722: I tensorflow/core/common_runtime/executor.cc:1197] [/device:CPU:0] (DEBUG INFO) Executor start aborting (this does not indicate an error and you can ignore this message): INVALID_ARGUMENT: You must feed a value for placeholder tensor 'Placeholder/_0' with dtype int32\n",
            "\t [[{{node Placeholder/_0}}]]\n"
          ]
        },
        {
          "name": "stdout",
          "output_type": "stream",
          "text": [
            "4/4 [==============================] - 1s 255ms/step\n",
            "***Performance on Validation data***\n",
            "Accuracy  : 0.05217391304347826\n",
            "Precision : 0.0027221172022684308\n",
            "f1Score : 0.0051742723679482575\n",
            "[[0 0 0 0 0 0 0 0 0 0 0 0 7 0 0 0 0 0]\n",
            " [0 0 0 0 0 0 0 0 0 0 0 0 6 0 0 0 0 0]\n",
            " [0 0 0 0 0 0 0 0 0 0 0 0 6 0 0 0 0 0]\n",
            " [0 0 0 0 0 0 0 0 0 0 0 0 7 0 0 0 0 0]\n",
            " [0 0 0 0 0 0 0 0 0 0 0 0 6 0 0 0 0 0]\n",
            " [0 0 0 0 0 0 0 0 0 0 0 0 7 0 0 0 0 0]\n",
            " [0 0 0 0 0 0 0 0 0 0 0 0 6 0 0 0 0 0]\n",
            " [0 0 0 0 0 0 0 0 0 0 0 0 6 0 0 0 0 0]\n",
            " [0 0 0 0 0 0 0 0 0 0 0 0 7 0 0 0 0 0]\n",
            " [0 0 0 0 0 0 0 0 0 0 0 0 6 0 0 0 0 0]\n",
            " [0 0 0 0 0 0 0 0 0 0 0 0 7 0 0 0 0 0]\n",
            " [0 0 0 0 0 0 0 0 0 0 0 0 6 0 0 0 0 0]\n",
            " [0 0 0 0 0 0 0 0 0 0 0 0 6 0 0 0 0 0]\n",
            " [0 0 0 0 0 0 0 0 0 0 0 0 7 0 0 0 0 0]\n",
            " [0 0 0 0 0 0 0 0 0 0 0 0 6 0 0 0 0 0]\n",
            " [0 0 0 0 0 0 0 0 0 0 0 0 7 0 0 0 0 0]\n",
            " [0 0 0 0 0 0 0 0 0 0 0 0 6 0 0 0 0 0]\n",
            " [0 0 0 0 0 0 0 0 0 0 0 0 6 0 0 0 0 0]]\n",
            "Results for fold 5\n",
            "Found 1129 images belonging to 18 classes.\n",
            "Found 115 images belonging to 18 classes.\n",
            "Epoch 1/15\n"
          ]
        },
        {
          "name": "stderr",
          "output_type": "stream",
          "text": [
            "/home/vscode/.local/lib/python3.11/site-packages/sklearn/metrics/_classification.py:1344: UndefinedMetricWarning: Precision is ill-defined and being set to 0.0 in labels with no predicted samples. Use `zero_division` parameter to control this behavior.\n",
            "  _warn_prf(average, modifier, msg_start, len(result))\n",
            "2023-05-10 12:20:33.919774: I tensorflow/core/common_runtime/executor.cc:1197] [/device:CPU:0] (DEBUG INFO) Executor start aborting (this does not indicate an error and you can ignore this message): INVALID_ARGUMENT: You must feed a value for placeholder tensor 'Placeholder/_0' with dtype int32\n",
            "\t [[{{node Placeholder/_0}}]]\n"
          ]
        },
        {
          "name": "stdout",
          "output_type": "stream",
          "text": [
            "36/36 [==============================] - 58s 2s/step - loss: 2.8905 - accuracy: 0.0567\n",
            "Epoch 2/15\n",
            "36/36 [==============================] - 56s 2s/step - loss: 2.8905 - accuracy: 0.0567\n",
            "Epoch 3/15\n",
            "36/36 [==============================] - 57s 2s/step - loss: 2.8905 - accuracy: 0.0567\n",
            "Epoch 4/15\n",
            "36/36 [==============================] - 56s 2s/step - loss: 2.8905 - accuracy: 0.0567\n",
            "Epoch 5/15\n",
            "36/36 [==============================] - 56s 2s/step - loss: 2.8906 - accuracy: 0.0567\n",
            "Epoch 6/15\n",
            "36/36 [==============================] - 56s 2s/step - loss: 2.8906 - accuracy: 0.0416\n",
            "Epoch 7/15\n",
            "36/36 [==============================] - 56s 2s/step - loss: 2.8906 - accuracy: 0.0434\n",
            "Epoch 8/15\n",
            "36/36 [==============================] - 55s 2s/step - loss: 2.8905 - accuracy: 0.0567\n",
            "Epoch 9/15\n",
            "36/36 [==============================] - 56s 2s/step - loss: 2.8905 - accuracy: 0.0567\n",
            "Epoch 10/15\n",
            "36/36 [==============================] - 56s 2s/step - loss: 2.8905 - accuracy: 0.0567\n",
            "Epoch 11/15\n",
            "36/36 [==============================] - 56s 2s/step - loss: 2.8905 - accuracy: 0.0567\n",
            "Epoch 12/15\n",
            "36/36 [==============================] - 56s 2s/step - loss: 2.8905 - accuracy: 0.0567\n",
            "Epoch 13/15\n",
            "36/36 [==============================] - 56s 2s/step - loss: 2.8905 - accuracy: 0.0567\n",
            "Epoch 14/15\n",
            "36/36 [==============================] - 55s 2s/step - loss: 2.8905 - accuracy: 0.0567\n",
            "Epoch 15/15\n",
            "36/36 [==============================] - 55s 2s/step - loss: 2.8905 - accuracy: 0.0567\n"
          ]
        },
        {
          "name": "stderr",
          "output_type": "stream",
          "text": [
            "2023-05-10 12:34:58.847364: I tensorflow/core/common_runtime/executor.cc:1197] [/device:CPU:0] (DEBUG INFO) Executor start aborting (this does not indicate an error and you can ignore this message): INVALID_ARGUMENT: You must feed a value for placeholder tensor 'Placeholder/_0' with dtype int32\n",
            "\t [[{{node Placeholder/_0}}]]\n"
          ]
        },
        {
          "name": "stdout",
          "output_type": "stream",
          "text": [
            "4/4 [==============================] - 1s 339ms/step\n",
            "***Performance on Validation data***\n",
            "Accuracy  : 0.05217391304347826\n",
            "Precision : 0.0027221172022684308\n",
            "f1Score : 0.0051742723679482575\n",
            "[[0 0 0 0 0 0 0 0 0 0 0 0 6 0 0 0 0 0]\n",
            " [0 0 0 0 0 0 0 0 0 0 0 0 7 0 0 0 0 0]\n",
            " [0 0 0 0 0 0 0 0 0 0 0 0 6 0 0 0 0 0]\n",
            " [0 0 0 0 0 0 0 0 0 0 0 0 7 0 0 0 0 0]\n",
            " [0 0 0 0 0 0 0 0 0 0 0 0 6 0 0 0 0 0]\n",
            " [0 0 0 0 0 0 0 0 0 0 0 0 6 0 0 0 0 0]\n",
            " [0 0 0 0 0 0 0 0 0 0 0 0 7 0 0 0 0 0]\n",
            " [0 0 0 0 0 0 0 0 0 0 0 0 6 0 0 0 0 0]\n",
            " [0 0 0 0 0 0 0 0 0 0 0 0 7 0 0 0 0 0]\n",
            " [0 0 0 0 0 0 0 0 0 0 0 0 6 0 0 0 0 0]\n",
            " [0 0 0 0 0 0 0 0 0 0 0 0 6 0 0 0 0 0]\n",
            " [0 0 0 0 0 0 0 0 0 0 0 0 7 0 0 0 0 0]\n",
            " [0 0 0 0 0 0 0 0 0 0 0 0 6 0 0 0 0 0]\n",
            " [0 0 0 0 0 0 0 0 0 0 0 0 7 0 0 0 0 0]\n",
            " [0 0 0 0 0 0 0 0 0 0 0 0 6 0 0 0 0 0]\n",
            " [0 0 0 0 0 0 0 0 0 0 0 0 6 0 0 0 0 0]\n",
            " [0 0 0 0 0 0 0 0 0 0 0 0 7 0 0 0 0 0]\n",
            " [0 0 0 0 0 0 0 0 0 0 0 0 6 0 0 0 0 0]]\n",
            "Results for fold 6\n",
            "Found 1129 images belonging to 18 classes.\n",
            "Found 115 images belonging to 18 classes.\n",
            "Epoch 1/15\n"
          ]
        },
        {
          "name": "stderr",
          "output_type": "stream",
          "text": [
            "/home/vscode/.local/lib/python3.11/site-packages/sklearn/metrics/_classification.py:1344: UndefinedMetricWarning: Precision is ill-defined and being set to 0.0 in labels with no predicted samples. Use `zero_division` parameter to control this behavior.\n",
            "  _warn_prf(average, modifier, msg_start, len(result))\n",
            "2023-05-10 12:35:01.577797: I tensorflow/core/common_runtime/executor.cc:1197] [/device:CPU:0] (DEBUG INFO) Executor start aborting (this does not indicate an error and you can ignore this message): INVALID_ARGUMENT: You must feed a value for placeholder tensor 'Placeholder/_0' with dtype int32\n",
            "\t [[{{node Placeholder/_0}}]]\n"
          ]
        },
        {
          "name": "stdout",
          "output_type": "stream",
          "text": [
            "36/36 [==============================] - 56s 2s/step - loss: 2.8905 - accuracy: 0.0567\n",
            "Epoch 2/15\n",
            "36/36 [==============================] - 57s 2s/step - loss: 2.8905 - accuracy: 0.0567\n",
            "Epoch 3/15\n",
            "36/36 [==============================] - 56s 2s/step - loss: 2.8905 - accuracy: 0.0567\n",
            "Epoch 4/15\n",
            "36/36 [==============================] - 56s 2s/step - loss: 2.8905 - accuracy: 0.0567\n",
            "Epoch 5/15\n",
            "36/36 [==============================] - 56s 2s/step - loss: 2.8905 - accuracy: 0.0567\n",
            "Epoch 6/15\n",
            "36/36 [==============================] - 56s 2s/step - loss: 2.8905 - accuracy: 0.0567\n",
            "Epoch 7/15\n",
            "36/36 [==============================] - 57s 2s/step - loss: 2.8906 - accuracy: 0.0567\n",
            "Epoch 8/15\n",
            "36/36 [==============================] - 57s 2s/step - loss: 2.8905 - accuracy: 0.0567\n",
            "Epoch 9/15\n",
            "36/36 [==============================] - 57s 2s/step - loss: 2.8905 - accuracy: 0.0567\n",
            "Epoch 10/15\n",
            "36/36 [==============================] - 56s 2s/step - loss: 2.8905 - accuracy: 0.0567\n",
            "Epoch 11/15\n",
            "36/36 [==============================] - 58s 2s/step - loss: 2.8905 - accuracy: 0.0567\n",
            "Epoch 12/15\n",
            "36/36 [==============================] - 59s 2s/step - loss: 2.8905 - accuracy: 0.0567\n",
            "Epoch 13/15\n",
            "36/36 [==============================] - 58s 2s/step - loss: 2.8905 - accuracy: 0.0567\n",
            "Epoch 14/15\n",
            "36/36 [==============================] - 58s 2s/step - loss: 2.8905 - accuracy: 0.0567\n",
            "Epoch 15/15\n",
            "36/36 [==============================] - 57s 2s/step - loss: 2.8905 - accuracy: 0.0567\n"
          ]
        },
        {
          "name": "stderr",
          "output_type": "stream",
          "text": [
            "2023-05-10 12:49:15.982979: I tensorflow/core/common_runtime/executor.cc:1197] [/device:CPU:0] (DEBUG INFO) Executor start aborting (this does not indicate an error and you can ignore this message): INVALID_ARGUMENT: You must feed a value for placeholder tensor 'Placeholder/_0' with dtype int32\n",
            "\t [[{{node Placeholder/_0}}]]\n"
          ]
        },
        {
          "name": "stdout",
          "output_type": "stream",
          "text": [
            "4/4 [==============================] - 1s 346ms/step\n",
            "***Performance on Validation data***\n",
            "Accuracy  : 0.05217391304347826\n",
            "Precision : 0.0027221172022684308\n",
            "f1Score : 0.0051742723679482575\n",
            "[[0 0 0 0 0 0 0 0 0 0 0 0 6 0 0 0 0 0]\n",
            " [0 0 0 0 0 0 0 0 0 0 0 0 7 0 0 0 0 0]\n",
            " [0 0 0 0 0 0 0 0 0 0 0 0 6 0 0 0 0 0]\n",
            " [0 0 0 0 0 0 0 0 0 0 0 0 7 0 0 0 0 0]\n",
            " [0 0 0 0 0 0 0 0 0 0 0 0 6 0 0 0 0 0]\n",
            " [0 0 0 0 0 0 0 0 0 0 0 0 6 0 0 0 0 0]\n",
            " [0 0 0 0 0 0 0 0 0 0 0 0 7 0 0 0 0 0]\n",
            " [0 0 0 0 0 0 0 0 0 0 0 0 6 0 0 0 0 0]\n",
            " [0 0 0 0 0 0 0 0 0 0 0 0 7 0 0 0 0 0]\n",
            " [0 0 0 0 0 0 0 0 0 0 0 0 6 0 0 0 0 0]\n",
            " [0 0 0 0 0 0 0 0 0 0 0 0 6 0 0 0 0 0]\n",
            " [0 0 0 0 0 0 0 0 0 0 0 0 7 0 0 0 0 0]\n",
            " [0 0 0 0 0 0 0 0 0 0 0 0 6 0 0 0 0 0]\n",
            " [0 0 0 0 0 0 0 0 0 0 0 0 7 0 0 0 0 0]\n",
            " [0 0 0 0 0 0 0 0 0 0 0 0 6 0 0 0 0 0]\n",
            " [0 0 0 0 0 0 0 0 0 0 0 0 6 0 0 0 0 0]\n",
            " [0 0 0 0 0 0 0 0 0 0 0 0 7 0 0 0 0 0]\n",
            " [0 0 0 0 0 0 0 0 0 0 0 0 6 0 0 0 0 0]]\n",
            "Results for fold 7\n",
            "Found 1129 images belonging to 18 classes.\n",
            "Found 115 images belonging to 18 classes.\n",
            "Epoch 1/15\n"
          ]
        },
        {
          "name": "stderr",
          "output_type": "stream",
          "text": [
            "/home/vscode/.local/lib/python3.11/site-packages/sklearn/metrics/_classification.py:1344: UndefinedMetricWarning: Precision is ill-defined and being set to 0.0 in labels with no predicted samples. Use `zero_division` parameter to control this behavior.\n",
            "  _warn_prf(average, modifier, msg_start, len(result))\n",
            "2023-05-10 12:49:17.595690: I tensorflow/core/common_runtime/executor.cc:1197] [/device:CPU:0] (DEBUG INFO) Executor start aborting (this does not indicate an error and you can ignore this message): INVALID_ARGUMENT: You must feed a value for placeholder tensor 'Placeholder/_0' with dtype int32\n",
            "\t [[{{node Placeholder/_0}}]]\n"
          ]
        },
        {
          "name": "stdout",
          "output_type": "stream",
          "text": [
            "36/36 [==============================] - 58s 2s/step - loss: 2.8905 - accuracy: 0.0567\n",
            "Epoch 2/15\n",
            "36/36 [==============================] - 57s 2s/step - loss: 2.8905 - accuracy: 0.0567\n",
            "Epoch 3/15\n",
            "36/36 [==============================] - 58s 2s/step - loss: 2.8905 - accuracy: 0.0567\n",
            "Epoch 4/15\n",
            "36/36 [==============================] - 57s 2s/step - loss: 2.8905 - accuracy: 0.0567\n",
            "Epoch 5/15\n",
            "36/36 [==============================] - 57s 2s/step - loss: 2.8905 - accuracy: 0.0567\n",
            "Epoch 6/15\n",
            "36/36 [==============================] - 58s 2s/step - loss: 2.8905 - accuracy: 0.0567\n",
            "Epoch 7/15\n",
            "36/36 [==============================] - 58s 2s/step - loss: 2.8905 - accuracy: 0.0567\n",
            "Epoch 8/15\n",
            "36/36 [==============================] - 58s 2s/step - loss: 2.8905 - accuracy: 0.0567\n",
            "Epoch 9/15\n",
            "36/36 [==============================] - 58s 2s/step - loss: 2.8905 - accuracy: 0.0567\n",
            "Epoch 10/15\n",
            "36/36 [==============================] - 58s 2s/step - loss: 2.8905 - accuracy: 0.0567\n",
            "Epoch 11/15\n",
            "36/36 [==============================] - 57s 2s/step - loss: 2.8905 - accuracy: 0.0567\n",
            "Epoch 12/15\n",
            "36/36 [==============================] - 58s 2s/step - loss: 2.8905 - accuracy: 0.0567\n",
            "Epoch 13/15\n",
            "36/36 [==============================] - 58s 2s/step - loss: 2.8905 - accuracy: 0.0567\n",
            "Epoch 14/15\n",
            "36/36 [==============================] - 56s 2s/step - loss: 2.8905 - accuracy: 0.0567\n",
            "Epoch 15/15\n",
            "36/36 [==============================] - 55s 2s/step - loss: 2.8905 - accuracy: 0.0567\n"
          ]
        },
        {
          "name": "stderr",
          "output_type": "stream",
          "text": [
            "2023-05-10 13:04:04.760272: I tensorflow/core/common_runtime/executor.cc:1197] [/device:CPU:0] (DEBUG INFO) Executor start aborting (this does not indicate an error and you can ignore this message): INVALID_ARGUMENT: You must feed a value for placeholder tensor 'Placeholder/_0' with dtype int32\n",
            "\t [[{{node Placeholder/_0}}]]\n"
          ]
        },
        {
          "name": "stdout",
          "output_type": "stream",
          "text": [
            "4/4 [==============================] - 1s 266ms/step\n",
            "***Performance on Validation data***\n",
            "Accuracy  : 0.05217391304347826\n",
            "Precision : 0.0027221172022684308\n",
            "f1Score : 0.0051742723679482575\n",
            "[[0 0 0 0 0 0 0 0 0 0 0 0 6 0 0 0 0 0]\n",
            " [0 0 0 0 0 0 0 0 0 0 0 0 7 0 0 0 0 0]\n",
            " [0 0 0 0 0 0 0 0 0 0 0 0 6 0 0 0 0 0]\n",
            " [0 0 0 0 0 0 0 0 0 0 0 0 6 0 0 0 0 0]\n",
            " [0 0 0 0 0 0 0 0 0 0 0 0 7 0 0 0 0 0]\n",
            " [0 0 0 0 0 0 0 0 0 0 0 0 6 0 0 0 0 0]\n",
            " [0 0 0 0 0 0 0 0 0 0 0 0 7 0 0 0 0 0]\n",
            " [0 0 0 0 0 0 0 0 0 0 0 0 6 0 0 0 0 0]\n",
            " [0 0 0 0 0 0 0 0 0 0 0 0 6 0 0 0 0 0]\n",
            " [0 0 0 0 0 0 0 0 0 0 0 0 7 0 0 0 0 0]\n",
            " [0 0 0 0 0 0 0 0 0 0 0 0 6 0 0 0 0 0]\n",
            " [0 0 0 0 0 0 0 0 0 0 0 0 7 0 0 0 0 0]\n",
            " [0 0 0 0 0 0 0 0 0 0 0 0 6 0 0 0 0 0]\n",
            " [0 0 0 0 0 0 0 0 0 0 0 0 6 0 0 0 0 0]\n",
            " [0 0 0 0 0 0 0 0 0 0 0 0 7 0 0 0 0 0]\n",
            " [0 0 0 0 0 0 0 0 0 0 0 0 6 0 0 0 0 0]\n",
            " [0 0 0 0 0 0 0 0 0 0 0 0 7 0 0 0 0 0]\n",
            " [0 0 0 0 0 0 0 0 0 0 0 0 6 0 0 0 0 0]]\n",
            "Results for fold 8\n",
            "Found 1129 images belonging to 18 classes.\n",
            "Found 115 images belonging to 18 classes.\n",
            "Epoch 1/15\n"
          ]
        },
        {
          "name": "stderr",
          "output_type": "stream",
          "text": [
            "/home/vscode/.local/lib/python3.11/site-packages/sklearn/metrics/_classification.py:1344: UndefinedMetricWarning: Precision is ill-defined and being set to 0.0 in labels with no predicted samples. Use `zero_division` parameter to control this behavior.\n",
            "  _warn_prf(average, modifier, msg_start, len(result))\n",
            "2023-05-10 13:04:06.102754: I tensorflow/core/common_runtime/executor.cc:1197] [/device:CPU:0] (DEBUG INFO) Executor start aborting (this does not indicate an error and you can ignore this message): INVALID_ARGUMENT: You must feed a value for placeholder tensor 'Placeholder/_0' with dtype int32\n",
            "\t [[{{node Placeholder/_0}}]]\n"
          ]
        },
        {
          "name": "stdout",
          "output_type": "stream",
          "text": [
            "36/36 [==============================] - 55s 2s/step - loss: 2.8905 - accuracy: 0.0567\n",
            "Epoch 2/15\n",
            "36/36 [==============================] - 56s 2s/step - loss: 2.8905 - accuracy: 0.0567\n",
            "Epoch 3/15\n",
            "36/36 [==============================] - 55s 2s/step - loss: 2.8905 - accuracy: 0.0505\n",
            "Epoch 4/15\n",
            "36/36 [==============================] - 55s 2s/step - loss: 2.8905 - accuracy: 0.0567\n",
            "Epoch 5/15\n",
            "36/36 [==============================] - 55s 2s/step - loss: 2.8905 - accuracy: 0.0567\n",
            "Epoch 6/15\n",
            "36/36 [==============================] - 56s 2s/step - loss: 2.8905 - accuracy: 0.0567\n",
            "Epoch 7/15\n",
            "36/36 [==============================] - 56s 2s/step - loss: 2.8905 - accuracy: 0.0567\n",
            "Epoch 8/15\n",
            "36/36 [==============================] - 55s 2s/step - loss: 2.8905 - accuracy: 0.0567\n",
            "Epoch 9/15\n",
            "36/36 [==============================] - 55s 2s/step - loss: 2.8905 - accuracy: 0.0567\n",
            "Epoch 10/15\n",
            "36/36 [==============================] - 54s 2s/step - loss: 2.8904 - accuracy: 0.0567\n",
            "Epoch 11/15\n",
            "36/36 [==============================] - 54s 1s/step - loss: 2.8905 - accuracy: 0.0567\n",
            "Epoch 12/15\n",
            "36/36 [==============================] - 54s 1s/step - loss: 2.8905 - accuracy: 0.0567\n",
            "Epoch 13/15\n",
            "36/36 [==============================] - 54s 2s/step - loss: 2.8905 - accuracy: 0.0567\n",
            "Epoch 14/15\n",
            "36/36 [==============================] - 54s 1s/step - loss: 2.8905 - accuracy: 0.0567\n",
            "Epoch 15/15\n",
            "36/36 [==============================] - 54s 1s/step - loss: 2.8905 - accuracy: 0.0567\n"
          ]
        },
        {
          "name": "stderr",
          "output_type": "stream",
          "text": [
            "2023-05-10 13:18:14.915175: I tensorflow/core/common_runtime/executor.cc:1197] [/device:CPU:0] (DEBUG INFO) Executor start aborting (this does not indicate an error and you can ignore this message): INVALID_ARGUMENT: You must feed a value for placeholder tensor 'Placeholder/_0' with dtype int32\n",
            "\t [[{{node Placeholder/_0}}]]\n"
          ]
        },
        {
          "name": "stdout",
          "output_type": "stream",
          "text": [
            "4/4 [==============================] - 1s 235ms/step\n",
            "***Performance on Validation data***\n",
            "Accuracy  : 0.05217391304347826\n",
            "Precision : 0.0027221172022684308\n",
            "f1Score : 0.0051742723679482575\n",
            "[[0 0 0 0 0 0 0 0 0 0 0 0 6 0 0 0 0 0]\n",
            " [0 0 0 0 0 0 0 0 0 0 0 0 7 0 0 0 0 0]\n",
            " [0 0 0 0 0 0 0 0 0 0 0 0 6 0 0 0 0 0]\n",
            " [0 0 0 0 0 0 0 0 0 0 0 0 6 0 0 0 0 0]\n",
            " [0 0 0 0 0 0 0 0 0 0 0 0 7 0 0 0 0 0]\n",
            " [0 0 0 0 0 0 0 0 0 0 0 0 6 0 0 0 0 0]\n",
            " [0 0 0 0 0 0 0 0 0 0 0 0 7 0 0 0 0 0]\n",
            " [0 0 0 0 0 0 0 0 0 0 0 0 6 0 0 0 0 0]\n",
            " [0 0 0 0 0 0 0 0 0 0 0 0 6 0 0 0 0 0]\n",
            " [0 0 0 0 0 0 0 0 0 0 0 0 7 0 0 0 0 0]\n",
            " [0 0 0 0 0 0 0 0 0 0 0 0 6 0 0 0 0 0]\n",
            " [0 0 0 0 0 0 0 0 0 0 0 0 7 0 0 0 0 0]\n",
            " [0 0 0 0 0 0 0 0 0 0 0 0 6 0 0 0 0 0]\n",
            " [0 0 0 0 0 0 0 0 0 0 0 0 6 0 0 0 0 0]\n",
            " [0 0 0 0 0 0 0 0 0 0 0 0 7 0 0 0 0 0]\n",
            " [0 0 0 0 0 0 0 0 0 0 0 0 6 0 0 0 0 0]\n",
            " [0 0 0 0 0 0 0 0 0 0 0 0 7 0 0 0 0 0]\n",
            " [0 0 0 0 0 0 0 0 0 0 0 0 6 0 0 0 0 0]]\n",
            "Results for fold 9\n",
            "Found 1129 images belonging to 18 classes.\n",
            "Found 115 images belonging to 18 classes.\n",
            "Epoch 1/15\n"
          ]
        },
        {
          "name": "stderr",
          "output_type": "stream",
          "text": [
            "/home/vscode/.local/lib/python3.11/site-packages/sklearn/metrics/_classification.py:1344: UndefinedMetricWarning: Precision is ill-defined and being set to 0.0 in labels with no predicted samples. Use `zero_division` parameter to control this behavior.\n",
            "  _warn_prf(average, modifier, msg_start, len(result))\n",
            "2023-05-10 13:18:16.120422: I tensorflow/core/common_runtime/executor.cc:1197] [/device:CPU:0] (DEBUG INFO) Executor start aborting (this does not indicate an error and you can ignore this message): INVALID_ARGUMENT: You must feed a value for placeholder tensor 'Placeholder/_0' with dtype int32\n",
            "\t [[{{node Placeholder/_0}}]]\n"
          ]
        },
        {
          "name": "stdout",
          "output_type": "stream",
          "text": [
            "36/36 [==============================] - 55s 2s/step - loss: 2.8905 - accuracy: 0.0558\n",
            "Epoch 2/15\n",
            "36/36 [==============================] - 54s 2s/step - loss: 2.8905 - accuracy: 0.0558\n",
            "Epoch 3/15\n",
            "36/36 [==============================] - 54s 2s/step - loss: 2.8905 - accuracy: 0.0558\n",
            "Epoch 4/15\n",
            "36/36 [==============================] - 56s 2s/step - loss: 2.8905 - accuracy: 0.0558\n",
            "Epoch 5/15\n",
            "36/36 [==============================] - 54s 1s/step - loss: 2.8905 - accuracy: 0.0558\n",
            "Epoch 6/15\n",
            "36/36 [==============================] - 54s 1s/step - loss: 2.8905 - accuracy: 0.0558\n",
            "Epoch 7/15\n",
            "36/36 [==============================] - 55s 2s/step - loss: 2.8905 - accuracy: 0.0558\n",
            "Epoch 8/15\n",
            "36/36 [==============================] - 54s 2s/step - loss: 2.8905 - accuracy: 0.0558\n",
            "Epoch 9/15\n",
            "36/36 [==============================] - 55s 2s/step - loss: 2.8905 - accuracy: 0.0558\n",
            "Epoch 10/15\n",
            "36/36 [==============================] - 54s 2s/step - loss: 2.8905 - accuracy: 0.0558\n",
            "Epoch 11/15\n",
            "36/36 [==============================] - 55s 2s/step - loss: 2.8905 - accuracy: 0.0496\n",
            "Epoch 12/15\n",
            "36/36 [==============================] - 54s 2s/step - loss: 2.8905 - accuracy: 0.0461\n",
            "Epoch 13/15\n",
            "36/36 [==============================] - 55s 2s/step - loss: 2.8905 - accuracy: 0.0487\n",
            "Epoch 14/15\n",
            "36/36 [==============================] - 54s 2s/step - loss: 2.8905 - accuracy: 0.0540\n",
            "Epoch 15/15\n",
            "36/36 [==============================] - 54s 2s/step - loss: 2.8905 - accuracy: 0.0567\n"
          ]
        },
        {
          "name": "stderr",
          "output_type": "stream",
          "text": [
            "2023-05-10 13:31:53.647300: I tensorflow/core/common_runtime/executor.cc:1197] [/device:CPU:0] (DEBUG INFO) Executor start aborting (this does not indicate an error and you can ignore this message): INVALID_ARGUMENT: You must feed a value for placeholder tensor 'Placeholder/_0' with dtype int32\n",
            "\t [[{{node Placeholder/_0}}]]\n"
          ]
        },
        {
          "name": "stdout",
          "output_type": "stream",
          "text": [
            "4/4 [==============================] - 1s 275ms/step\n",
            "***Performance on Validation data***\n",
            "Accuracy  : 0.05217391304347826\n",
            "Precision : 0.0027221172022684308\n",
            "f1Score : 0.0051742723679482575\n",
            "[[0 0 0 0 0 0 6 0 0 0 0 0 0 0 0 0 0 0]\n",
            " [0 0 0 0 0 0 6 0 0 0 0 0 0 0 0 0 0 0]\n",
            " [0 0 0 0 0 0 7 0 0 0 0 0 0 0 0 0 0 0]\n",
            " [0 0 0 0 0 0 6 0 0 0 0 0 0 0 0 0 0 0]\n",
            " [0 0 0 0 0 0 7 0 0 0 0 0 0 0 0 0 0 0]\n",
            " [0 0 0 0 0 0 6 0 0 0 0 0 0 0 0 0 0 0]\n",
            " [0 0 0 0 0 0 6 0 0 0 0 0 0 0 0 0 0 0]\n",
            " [0 0 0 0 0 0 7 0 0 0 0 0 0 0 0 0 0 0]\n",
            " [0 0 0 0 0 0 6 0 0 0 0 0 0 0 0 0 0 0]\n",
            " [0 0 0 0 0 0 7 0 0 0 0 0 0 0 0 0 0 0]\n",
            " [0 0 0 0 0 0 6 0 0 0 0 0 0 0 0 0 0 0]\n",
            " [0 0 0 0 0 0 6 0 0 0 0 0 0 0 0 0 0 0]\n",
            " [0 0 0 0 0 0 7 0 0 0 0 0 0 0 0 0 0 0]\n",
            " [0 0 0 0 0 0 6 0 0 0 0 0 0 0 0 0 0 0]\n",
            " [0 0 0 0 0 0 7 0 0 0 0 0 0 0 0 0 0 0]\n",
            " [0 0 0 0 0 0 6 0 0 0 0 0 0 0 0 0 0 0]\n",
            " [0 0 0 0 0 0 6 0 0 0 0 0 0 0 0 0 0 0]\n",
            " [0 0 0 0 0 0 7 0 0 0 0 0 0 0 0 0 0 0]]\n",
            "Results for fold 10\n",
            "Found 1129 images belonging to 18 classes.\n",
            "Found 115 images belonging to 18 classes.\n",
            "Epoch 1/15\n"
          ]
        },
        {
          "name": "stderr",
          "output_type": "stream",
          "text": [
            "/home/vscode/.local/lib/python3.11/site-packages/sklearn/metrics/_classification.py:1344: UndefinedMetricWarning: Precision is ill-defined and being set to 0.0 in labels with no predicted samples. Use `zero_division` parameter to control this behavior.\n",
            "  _warn_prf(average, modifier, msg_start, len(result))\n",
            "2023-05-10 13:31:54.989946: I tensorflow/core/common_runtime/executor.cc:1197] [/device:CPU:0] (DEBUG INFO) Executor start aborting (this does not indicate an error and you can ignore this message): INVALID_ARGUMENT: You must feed a value for placeholder tensor 'Placeholder/_0' with dtype int32\n",
            "\t [[{{node Placeholder/_0}}]]\n"
          ]
        },
        {
          "name": "stdout",
          "output_type": "stream",
          "text": [
            "36/36 [==============================] - 55s 2s/step - loss: 2.8905 - accuracy: 0.0478\n",
            "Epoch 2/15\n",
            "36/36 [==============================] - 54s 2s/step - loss: 2.8905 - accuracy: 0.0549\n",
            "Epoch 3/15\n",
            "36/36 [==============================] - 57s 2s/step - loss: 2.8905 - accuracy: 0.0523\n",
            "Epoch 4/15\n",
            "36/36 [==============================] - 55s 2s/step - loss: 2.8904 - accuracy: 0.0469\n",
            "Epoch 5/15\n",
            "36/36 [==============================] - 55s 2s/step - loss: 2.8905 - accuracy: 0.0567\n",
            "Epoch 6/15\n",
            "36/36 [==============================] - 54s 1s/step - loss: 2.8905 - accuracy: 0.0567\n",
            "Epoch 7/15\n",
            "36/36 [==============================] - 54s 1s/step - loss: 2.8905 - accuracy: 0.0567\n",
            "Epoch 8/15\n",
            "36/36 [==============================] - 55s 2s/step - loss: 2.8905 - accuracy: 0.0567\n",
            "Epoch 9/15\n",
            "36/36 [==============================] - 55s 2s/step - loss: 2.8905 - accuracy: 0.0567\n",
            "Epoch 10/15\n",
            "36/36 [==============================] - 54s 1s/step - loss: 2.8905 - accuracy: 0.0567\n",
            "Epoch 11/15\n",
            "36/36 [==============================] - 54s 2s/step - loss: 2.8904 - accuracy: 0.0567\n",
            "Epoch 12/15\n",
            "36/36 [==============================] - 54s 2s/step - loss: 2.8904 - accuracy: 0.0567\n",
            "Epoch 13/15\n",
            "36/36 [==============================] - 54s 1s/step - loss: 2.8905 - accuracy: 0.0567\n",
            "Epoch 14/15\n",
            "36/36 [==============================] - 54s 1s/step - loss: 2.8905 - accuracy: 0.0567\n",
            "Epoch 15/15\n",
            "36/36 [==============================] - 53s 1s/step - loss: 2.8904 - accuracy: 0.0567\n"
          ]
        },
        {
          "name": "stderr",
          "output_type": "stream",
          "text": [
            "2023-05-10 13:46:01.455511: I tensorflow/core/common_runtime/executor.cc:1197] [/device:CPU:0] (DEBUG INFO) Executor start aborting (this does not indicate an error and you can ignore this message): INVALID_ARGUMENT: You must feed a value for placeholder tensor 'Placeholder/_0' with dtype int32\n",
            "\t [[{{node Placeholder/_0}}]]\n"
          ]
        },
        {
          "name": "stdout",
          "output_type": "stream",
          "text": [
            "4/4 [==============================] - 1s 230ms/step\n",
            "***Performance on Validation data***\n",
            "Accuracy  : 0.05217391304347826\n",
            "Precision : 0.0027221172022684308\n",
            "f1Score : 0.0051742723679482575\n",
            "[[0 0 0 0 0 0 6 0 0 0 0 0 0 0 0 0 0 0]\n",
            " [0 0 0 0 0 0 6 0 0 0 0 0 0 0 0 0 0 0]\n",
            " [0 0 0 0 0 0 7 0 0 0 0 0 0 0 0 0 0 0]\n",
            " [0 0 0 0 0 0 6 0 0 0 0 0 0 0 0 0 0 0]\n",
            " [0 0 0 0 0 0 7 0 0 0 0 0 0 0 0 0 0 0]\n",
            " [0 0 0 0 0 0 6 0 0 0 0 0 0 0 0 0 0 0]\n",
            " [0 0 0 0 0 0 6 0 0 0 0 0 0 0 0 0 0 0]\n",
            " [0 0 0 0 0 0 7 0 0 0 0 0 0 0 0 0 0 0]\n",
            " [0 0 0 0 0 0 6 0 0 0 0 0 0 0 0 0 0 0]\n",
            " [0 0 0 0 0 0 7 0 0 0 0 0 0 0 0 0 0 0]\n",
            " [0 0 0 0 0 0 6 0 0 0 0 0 0 0 0 0 0 0]\n",
            " [0 0 0 0 0 0 6 0 0 0 0 0 0 0 0 0 0 0]\n",
            " [0 0 0 0 0 0 7 0 0 0 0 0 0 0 0 0 0 0]\n",
            " [0 0 0 0 0 0 6 0 0 0 0 0 0 0 0 0 0 0]\n",
            " [0 0 0 0 0 0 7 0 0 0 0 0 0 0 0 0 0 0]\n",
            " [0 0 0 0 0 0 6 0 0 0 0 0 0 0 0 0 0 0]\n",
            " [0 0 0 0 0 0 6 0 0 0 0 0 0 0 0 0 0 0]\n",
            " [0 0 0 0 0 0 7 0 0 0 0 0 0 0 0 0 0 0]]\n"
          ]
        },
        {
          "name": "stderr",
          "output_type": "stream",
          "text": [
            "/home/vscode/.local/lib/python3.11/site-packages/sklearn/metrics/_classification.py:1344: UndefinedMetricWarning: Precision is ill-defined and being set to 0.0 in labels with no predicted samples. Use `zero_division` parameter to control this behavior.\n",
            "  _warn_prf(average, modifier, msg_start, len(result))\n"
          ]
        }
      ],
      "source": [
        "# ===============Stratified K-Fold======================\n",
        "skf = StratifiedKFold(n_splits=10, shuffle=True)\n",
        "skf.get_n_splits(X, Y)\n",
        "fold_num = 0\n",
        "for train_index, val_index in skf.split(X, Y):\n",
        "    # First cut all images from validation to train (if any exists)\n",
        "    transfer_all_class_between_folders('validation', 'train'\n",
        "                                       , 1.0)\n",
        "    fold_num += 1\n",
        "    print(\"Results for fold\", fold_num)\n",
        "    X_train, X_val = X[train_index], X[val_index]\n",
        "    Y_train, Y_val = Y[train_index], Y[val_index]\n",
        "    # Move validation images of this fold from train folder to the validation folder\n",
        "    for each_index in range(len(X_val)):\n",
        "        class_label = ''\n",
        "        for i in range(len(class_labels)):\n",
        "            if(Y_val[each_index] == i):\n",
        "                class_label = class_labels[i]\n",
        "        # Then, copy the validation images to the validation folder\n",
        "        shutil.move(os.path.join(dataset_folder_name, 'train', class_label, X_val[each_index]),\n",
        "                    os.path.join(dataset_folder_name, 'validation', class_label, X_val[each_index]))\n",
        "\n",
        "    train_datagen = ImageDataGenerator(\n",
        "        rescale=1./255,\n",
        "        zoom_range=0.20,\n",
        "        fill_mode=\"nearest\",\n",
        "        rotation_range=90,\n",
        "        height_shift_range=0.1,\n",
        "        width_shift_range=0.1,\n",
        "        vertical_flip=True,\n",
        "        horizontal_flip=True)\n",
        "    validation_datagen = ImageDataGenerator(rescale=1./255)\n",
        "    test_datagen = ImageDataGenerator(rescale=1./255)\n",
        "\n",
        "    # Start ImageClassification Model\n",
        "    train_generator = train_datagen.flow_from_directory(\n",
        "        train_path,\n",
        "        target_size=(img_rows, img_cols),\n",
        "        batch_size=batch_size,\n",
        "        class_mode='categorical',\n",
        "        subset='training')\n",
        "\n",
        "    validation_generator = validation_datagen.flow_from_directory(\n",
        "        validation_path,\n",
        "        target_size=(img_rows, img_cols),\n",
        "        batch_size=batch_size,\n",
        "        class_mode=None,  # only data, no labels\n",
        "        shuffle=False)\n",
        "    \n",
        "    # fit model\n",
        "    history = model.fit(train_generator,\n",
        "                        epochs=epoch)\n",
        "\n",
        "    predictions = model.predict(validation_generator, verbose=1)\n",
        "    y_predictions = np.argmax(predictions, axis=1)\n",
        "    true_classes = validation_generator.classes\n",
        "    \n",
        "    # evaluate validation performance\n",
        "    print(\"***Performance on Validation data***\")\n",
        "    val_acc, val_prec, val_fScore = my_metrics(true_classes, y_predictions)"
      ]
    },
    {
      "cell_type": "code",
      "execution_count": 18,
      "metadata": {
        "colab": {
          "base_uri": "https://localhost:8080/"
        },
        "id": "_hG3Pzh9N61T",
        "outputId": "c92c5925-ba43-443f-8c89-9e63440e0a59"
      },
      "outputs": [
        {
          "name": "stdout",
          "output_type": "stream",
          "text": [
            "==============TEST RESULTS============\n",
            "Found 285 images belonging to 18 classes.\n"
          ]
        },
        {
          "name": "stderr",
          "output_type": "stream",
          "text": [
            "2023-05-10 13:53:54.707021: I tensorflow/core/common_runtime/executor.cc:1197] [/device:CPU:0] (DEBUG INFO) Executor start aborting (this does not indicate an error and you can ignore this message): INVALID_ARGUMENT: You must feed a value for placeholder tensor 'Placeholder/_0' with dtype int32\n",
            "\t [[{{node Placeholder/_0}}]]\n"
          ]
        },
        {
          "name": "stdout",
          "output_type": "stream",
          "text": [
            "9/9 [==============================] - 2s 270ms/step\n",
            "Accuracy  : 0.05263157894736842\n",
            "Precision : 0.002770083102493075\n",
            "f1Score : 0.005263157894736842\n",
            "[[ 0  0  0  0  0  0 16  0  0  0  0  0  0  0  0  0  0  0]\n",
            " [ 0  0  0  0  0  0 16  0  0  0  0  0  0  0  0  0  0  0]\n",
            " [ 0  0  0  0  0  0 16  0  0  0  0  0  0  0  0  0  0  0]\n",
            " [ 0  0  0  0  0  0 16  0  0  0  0  0  0  0  0  0  0  0]\n",
            " [ 0  0  0  0  0  0 15  0  0  0  0  0  0  0  0  0  0  0]\n",
            " [ 0  0  0  0  0  0 16  0  0  0  0  0  0  0  0  0  0  0]\n",
            " [ 0  0  0  0  0  0 15  0  0  0  0  0  0  0  0  0  0  0]\n",
            " [ 0  0  0  0  0  0 16  0  0  0  0  0  0  0  0  0  0  0]\n",
            " [ 0  0  0  0  0  0 16  0  0  0  0  0  0  0  0  0  0  0]\n",
            " [ 0  0  0  0  0  0 16  0  0  0  0  0  0  0  0  0  0  0]\n",
            " [ 0  0  0  0  0  0 16  0  0  0  0  0  0  0  0  0  0  0]\n",
            " [ 0  0  0  0  0  0 16  0  0  0  0  0  0  0  0  0  0  0]\n",
            " [ 0  0  0  0  0  0 15  0  0  0  0  0  0  0  0  0  0  0]\n",
            " [ 0  0  0  0  0  0 16  0  0  0  0  0  0  0  0  0  0  0]\n",
            " [ 0  0  0  0  0  0 16  0  0  0  0  0  0  0  0  0  0  0]\n",
            " [ 0  0  0  0  0  0 16  0  0  0  0  0  0  0  0  0  0  0]\n",
            " [ 0  0  0  0  0  0 16  0  0  0  0  0  0  0  0  0  0  0]\n",
            " [ 0  0  0  0  0  0 16  0  0  0  0  0  0  0  0  0  0  0]]\n"
          ]
        },
        {
          "name": "stderr",
          "output_type": "stream",
          "text": [
            "/home/vscode/.local/lib/python3.11/site-packages/sklearn/metrics/_classification.py:1344: UndefinedMetricWarning: Precision is ill-defined and being set to 0.0 in labels with no predicted samples. Use `zero_division` parameter to control this behavior.\n",
            "  _warn_prf(average, modifier, msg_start, len(result))\n"
          ]
        }
      ],
      "source": [
        "print(\"==============TEST RESULTS============\")\n",
        "test_generator = test_datagen.flow_from_directory(\n",
        "    test_path,\n",
        "    target_size=(img_rows, img_cols),\n",
        "    batch_size=batch_size,\n",
        "    class_mode=None,\n",
        "    shuffle=False \n",
        ")\n",
        "predictions = model.predict(test_generator, verbose=1) \n",
        "y_predictions = np.argmax(predictions, axis=1)\n",
        "true_classes = test_generator.classes\n",
        "\n",
        "test_acc, test_prec, test_fScore = my_metrics(true_classes, y_predictions)"
      ]
    },
    {
      "cell_type": "code",
      "execution_count": 19,
      "metadata": {},
      "outputs": [
        {
          "name": "stdout",
          "output_type": "stream",
          "text": [
            "              precision    recall  f1-score   support\n",
            "\n",
            "           a       0.00      0.00      0.00        16\n",
            "          ba       0.00      0.00      0.00        16\n",
            "          ca       0.00      0.00      0.00        16\n",
            "          da       0.00      0.00      0.00        16\n",
            "          ga       0.00      0.00      0.00        15\n",
            "          ja       0.00      0.00      0.00        16\n",
            "          ka       0.05      1.00      0.10        15\n",
            "          la       0.00      0.00      0.00        16\n",
            "          ma       0.00      0.00      0.00        16\n",
            "          na       0.00      0.00      0.00        16\n",
            "         nga       0.00      0.00      0.00        16\n",
            "         nya       0.00      0.00      0.00        16\n",
            "          pa       0.00      0.00      0.00        15\n",
            "          ra       0.00      0.00      0.00        16\n",
            "          sa       0.00      0.00      0.00        16\n",
            "          ta       0.00      0.00      0.00        16\n",
            "          wa       0.00      0.00      0.00        16\n",
            "          ya       0.00      0.00      0.00        16\n",
            "\n",
            "    accuracy                           0.05       285\n",
            "   macro avg       0.00      0.06      0.01       285\n",
            "weighted avg       0.00      0.05      0.01       285\n",
            "\n"
          ]
        },
        {
          "name": "stderr",
          "output_type": "stream",
          "text": [
            "/home/vscode/.local/lib/python3.11/site-packages/sklearn/metrics/_classification.py:1344: UndefinedMetricWarning: Precision and F-score are ill-defined and being set to 0.0 in labels with no predicted samples. Use `zero_division` parameter to control this behavior.\n",
            "  _warn_prf(average, modifier, msg_start, len(result))\n",
            "/home/vscode/.local/lib/python3.11/site-packages/sklearn/metrics/_classification.py:1344: UndefinedMetricWarning: Precision and F-score are ill-defined and being set to 0.0 in labels with no predicted samples. Use `zero_division` parameter to control this behavior.\n",
            "  _warn_prf(average, modifier, msg_start, len(result))\n",
            "/home/vscode/.local/lib/python3.11/site-packages/sklearn/metrics/_classification.py:1344: UndefinedMetricWarning: Precision and F-score are ill-defined and being set to 0.0 in labels with no predicted samples. Use `zero_division` parameter to control this behavior.\n",
            "  _warn_prf(average, modifier, msg_start, len(result))\n"
          ]
        }
      ],
      "source": [
        "from sklearn.metrics import classification_report\n",
        "clr = classification_report(true_classes, y_predictions,\n",
        "                            labels=[0, 1, 2, 3, 4, 5, 6, 7, 8, 9, 10, 11, 12, 13, 14, 15, 16, 17], \n",
        "                            target_names=['a', 'ba','ca','da','ga','ja','ka','la','ma','na','nga','nya','pa','ra','sa','ta','wa','ya'])\n",
        "print(clr)"
      ]
    },
    {
      "cell_type": "code",
      "execution_count": 17,
      "metadata": {},
      "outputs": [],
      "source": [
        "#MODEL_FILENAME = root_path+\"/modelpengujian04_3x3_arsitektur2.h5\"\n",
        "#model.save(MODEL_FILENAME)"
      ]
    }
  ],
  "metadata": {
    "accelerator": "GPU",
    "colab": {
      "provenance": []
    },
    "gpuClass": "standard",
    "kernelspec": {
      "display_name": ".venv",
      "language": "python",
      "name": "python3"
    },
    "language_info": {
      "codemirror_mode": {
        "name": "ipython",
        "version": 3
      },
      "file_extension": ".py",
      "mimetype": "text/x-python",
      "name": "python",
      "nbconvert_exporter": "python",
      "pygments_lexer": "ipython3",
      "version": "3.11.2"
    },
    "vscode": {
      "interpreter": {
        "hash": "24dc7b20f56b03d1f16e6cc38505b58c26a9c0d2aa82b50d0cbd183a5ef7f314"
      }
    }
  },
  "nbformat": 4,
  "nbformat_minor": 0
}
